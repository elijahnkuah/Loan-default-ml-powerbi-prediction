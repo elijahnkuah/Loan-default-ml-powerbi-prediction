{
 "cells": [
  {
   "cell_type": "markdown",
   "id": "9a2f91e9",
   "metadata": {},
   "source": [
    "# Hacker Earth Machine Learning Challenge \n",
    "\n",
    "## Problem Statement\n",
    "The Bank Indessa has not done well in last 3 quarters. Their NPAs (Non Performing Assets) have reached all time high. It is starting to lose confidence of its investors. As a result, it’s stock has fallen by 20% in the previous quarter alone.\n",
    "After careful analysis, it was found that the majority of NPA was contributed by loan defaulters. With the messy data collected over all the years, this bank has decided to use machine learning to figure out a way to find these defaulters and devise a plan to reduce them.\n",
    "This bank uses a pool of investors to sanction their loans. For example: If any customer has applied for a loan of $20000, along with bank, the investors perform a due diligence on the requested loan application. Keep this in mind while understanding data.\n",
    "In this challenge, you will help this bank by predicting the probability that a member will default.\n",
    "\n",
    "\n",
    "### Solution Approach\n"
   ]
  },
  {
   "cell_type": "markdown",
   "id": "06a86755",
   "metadata": {},
   "source": [
    "# Importing needful libraries"
   ]
  },
  {
   "cell_type": "code",
   "execution_count": 1,
   "id": "13372dbd",
   "metadata": {},
   "outputs": [],
   "source": [
    "import pandas as pd\n",
    "import numpy as np\n",
    "from sklearn.metrics import roc_auc_score, log_loss\n",
    "import matplotlib.pyplot as plt\n",
    "import seaborn as sns\n",
    "from scipy import stats\n",
    "from scipy.stats import spearmanr\n",
    "from scipy.stats import chi2_contingency\n",
    "from sklearn.model_selection import StratifiedKFold\n",
    "import xgboost as xgb\n",
    "import catboost as cat_\n",
    "import lightgbm as lgb\n",
    "from sklearn.impute import SimpleImputer as Imputer\n",
    "from sklearn import preprocessing\n",
    "from sklearn.model_selection import RepeatedStratifiedKFold\n",
    "from sklearn.model_selection import GridSearchCV\n",
    "import re\n",
    "import timeit\n",
    "import random\n",
    "random.seed(3)"
   ]
  },
  {
   "cell_type": "code",
   "execution_count": 2,
   "id": "46420c8b",
   "metadata": {},
   "outputs": [],
   "source": [
    "dataset = pd.read_csv(\"datasets/dataset.csv\")"
   ]
  },
  {
   "cell_type": "code",
   "execution_count": 3,
   "id": "1338d226",
   "metadata": {},
   "outputs": [],
   "source": [
    "pd.options.display.max_columns = None\n",
    "pd.options.display.max_rows = None"
   ]
  },
  {
   "cell_type": "code",
   "execution_count": 4,
   "id": "9fe227d9",
   "metadata": {},
   "outputs": [],
   "source": [
    "#dataset = dataset.sample(frac = 0.1, random_state=10)"
   ]
  },
  {
   "cell_type": "code",
   "execution_count": 5,
   "id": "00998fce",
   "metadata": {},
   "outputs": [],
   "source": [
    "#pd.DataFrame(dataset).to_csv('datasets/dataset.csv', index=False)"
   ]
  },
  {
   "cell_type": "code",
   "execution_count": 6,
   "id": "ab792373",
   "metadata": {},
   "outputs": [
    {
     "data": {
      "text/html": [
       "<div>\n",
       "<style scoped>\n",
       "    .dataframe tbody tr th:only-of-type {\n",
       "        vertical-align: middle;\n",
       "    }\n",
       "\n",
       "    .dataframe tbody tr th {\n",
       "        vertical-align: top;\n",
       "    }\n",
       "\n",
       "    .dataframe thead th {\n",
       "        text-align: right;\n",
       "    }\n",
       "</style>\n",
       "<table border=\"1\" class=\"dataframe\">\n",
       "  <thead>\n",
       "    <tr style=\"text-align: right;\">\n",
       "      <th></th>\n",
       "      <th>member_id</th>\n",
       "      <th>loan_amnt</th>\n",
       "      <th>funded_amnt</th>\n",
       "      <th>funded_amnt_inv</th>\n",
       "      <th>term</th>\n",
       "      <th>batch_enrolled</th>\n",
       "      <th>int_rate</th>\n",
       "      <th>grade</th>\n",
       "      <th>sub_grade</th>\n",
       "      <th>emp_title</th>\n",
       "      <th>emp_length</th>\n",
       "      <th>home_ownership</th>\n",
       "      <th>annual_inc</th>\n",
       "      <th>verification_status</th>\n",
       "      <th>pymnt_plan</th>\n",
       "      <th>desc</th>\n",
       "      <th>purpose</th>\n",
       "      <th>title</th>\n",
       "      <th>zip_code</th>\n",
       "      <th>addr_state</th>\n",
       "      <th>dti</th>\n",
       "      <th>delinq_2yrs</th>\n",
       "      <th>inq_last_6mths</th>\n",
       "      <th>mths_since_last_delinq</th>\n",
       "      <th>mths_since_last_record</th>\n",
       "      <th>open_acc</th>\n",
       "      <th>pub_rec</th>\n",
       "      <th>revol_bal</th>\n",
       "      <th>revol_util</th>\n",
       "      <th>total_acc</th>\n",
       "      <th>initial_list_status</th>\n",
       "      <th>total_rec_int</th>\n",
       "      <th>total_rec_late_fee</th>\n",
       "      <th>recoveries</th>\n",
       "      <th>collection_recovery_fee</th>\n",
       "      <th>collections_12_mths_ex_med</th>\n",
       "      <th>mths_since_last_major_derog</th>\n",
       "      <th>application_type</th>\n",
       "      <th>verification_status_joint</th>\n",
       "      <th>last_week_pay</th>\n",
       "      <th>acc_now_delinq</th>\n",
       "      <th>tot_coll_amt</th>\n",
       "      <th>tot_cur_bal</th>\n",
       "      <th>total_rev_hi_lim</th>\n",
       "      <th>loan_status</th>\n",
       "    </tr>\n",
       "  </thead>\n",
       "  <tbody>\n",
       "    <tr>\n",
       "      <th>0</th>\n",
       "      <td>25386106</td>\n",
       "      <td>35000</td>\n",
       "      <td>35000</td>\n",
       "      <td>35000.0</td>\n",
       "      <td>60 months</td>\n",
       "      <td></td>\n",
       "      <td>23.43</td>\n",
       "      <td>F</td>\n",
       "      <td>F1</td>\n",
       "      <td>Teacher</td>\n",
       "      <td>10+ years</td>\n",
       "      <td>MORTGAGE</td>\n",
       "      <td>135000.0</td>\n",
       "      <td>Source Verified</td>\n",
       "      <td>n</td>\n",
       "      <td>NaN</td>\n",
       "      <td>debt_consolidation</td>\n",
       "      <td>Debt consolidation</td>\n",
       "      <td>153xx</td>\n",
       "      <td>PA</td>\n",
       "      <td>27.14</td>\n",
       "      <td>0.0</td>\n",
       "      <td>2.0</td>\n",
       "      <td>NaN</td>\n",
       "      <td>NaN</td>\n",
       "      <td>49.0</td>\n",
       "      <td>0.0</td>\n",
       "      <td>31702.0</td>\n",
       "      <td>80.5</td>\n",
       "      <td>75.0</td>\n",
       "      <td>f</td>\n",
       "      <td>10702.29</td>\n",
       "      <td>0.00</td>\n",
       "      <td>0.0</td>\n",
       "      <td>0.0</td>\n",
       "      <td>0.0</td>\n",
       "      <td>NaN</td>\n",
       "      <td>INDIVIDUAL</td>\n",
       "      <td>NaN</td>\n",
       "      <td>74th week</td>\n",
       "      <td>0.0</td>\n",
       "      <td>0.0</td>\n",
       "      <td>346077.0</td>\n",
       "      <td>39400.0</td>\n",
       "      <td>0</td>\n",
       "    </tr>\n",
       "    <tr>\n",
       "      <th>1</th>\n",
       "      <td>61556649</td>\n",
       "      <td>19000</td>\n",
       "      <td>19000</td>\n",
       "      <td>18900.0</td>\n",
       "      <td>36 months</td>\n",
       "      <td>BAT1780517</td>\n",
       "      <td>9.99</td>\n",
       "      <td>B</td>\n",
       "      <td>B3</td>\n",
       "      <td>Chaplain</td>\n",
       "      <td>10+ years</td>\n",
       "      <td>RENT</td>\n",
       "      <td>79000.0</td>\n",
       "      <td>Not Verified</td>\n",
       "      <td>n</td>\n",
       "      <td>NaN</td>\n",
       "      <td>debt_consolidation</td>\n",
       "      <td>Debt consolidation</td>\n",
       "      <td>130xx</td>\n",
       "      <td>NY</td>\n",
       "      <td>29.28</td>\n",
       "      <td>0.0</td>\n",
       "      <td>2.0</td>\n",
       "      <td>NaN</td>\n",
       "      <td>NaN</td>\n",
       "      <td>22.0</td>\n",
       "      <td>0.0</td>\n",
       "      <td>20238.0</td>\n",
       "      <td>61.1</td>\n",
       "      <td>35.0</td>\n",
       "      <td>f</td>\n",
       "      <td>774.22</td>\n",
       "      <td>30.65</td>\n",
       "      <td>0.0</td>\n",
       "      <td>0.0</td>\n",
       "      <td>0.0</td>\n",
       "      <td>NaN</td>\n",
       "      <td>INDIVIDUAL</td>\n",
       "      <td>NaN</td>\n",
       "      <td>22th week</td>\n",
       "      <td>0.0</td>\n",
       "      <td>0.0</td>\n",
       "      <td>110297.0</td>\n",
       "      <td>33100.0</td>\n",
       "      <td>0</td>\n",
       "    </tr>\n",
       "    <tr>\n",
       "      <th>2</th>\n",
       "      <td>12619165</td>\n",
       "      <td>6600</td>\n",
       "      <td>6600</td>\n",
       "      <td>6600.0</td>\n",
       "      <td>36 months</td>\n",
       "      <td></td>\n",
       "      <td>14.98</td>\n",
       "      <td>C</td>\n",
       "      <td>C3</td>\n",
       "      <td>NaN</td>\n",
       "      <td>10+ years</td>\n",
       "      <td>OWN</td>\n",
       "      <td>80000.0</td>\n",
       "      <td>Source Verified</td>\n",
       "      <td>n</td>\n",
       "      <td>NaN</td>\n",
       "      <td>credit_card</td>\n",
       "      <td>Credit card refinancing</td>\n",
       "      <td>277xx</td>\n",
       "      <td>NC</td>\n",
       "      <td>13.11</td>\n",
       "      <td>2.0</td>\n",
       "      <td>0.0</td>\n",
       "      <td>2.0</td>\n",
       "      <td>NaN</td>\n",
       "      <td>18.0</td>\n",
       "      <td>0.0</td>\n",
       "      <td>4323.0</td>\n",
       "      <td>21.0</td>\n",
       "      <td>42.0</td>\n",
       "      <td>f</td>\n",
       "      <td>671.56</td>\n",
       "      <td>0.00</td>\n",
       "      <td>0.0</td>\n",
       "      <td>0.0</td>\n",
       "      <td>0.0</td>\n",
       "      <td>2.0</td>\n",
       "      <td>INDIVIDUAL</td>\n",
       "      <td>NaN</td>\n",
       "      <td>39th week</td>\n",
       "      <td>1.0</td>\n",
       "      <td>0.0</td>\n",
       "      <td>27591.0</td>\n",
       "      <td>20600.0</td>\n",
       "      <td>1</td>\n",
       "    </tr>\n",
       "    <tr>\n",
       "      <th>3</th>\n",
       "      <td>40473262</td>\n",
       "      <td>8000</td>\n",
       "      <td>8000</td>\n",
       "      <td>8000.0</td>\n",
       "      <td>36 months</td>\n",
       "      <td>BAT4722912</td>\n",
       "      <td>6.99</td>\n",
       "      <td>A</td>\n",
       "      <td>A3</td>\n",
       "      <td>Teacher</td>\n",
       "      <td>2 years</td>\n",
       "      <td>OWN</td>\n",
       "      <td>60000.0</td>\n",
       "      <td>Verified</td>\n",
       "      <td>n</td>\n",
       "      <td>NaN</td>\n",
       "      <td>major_purchase</td>\n",
       "      <td>Major purchase</td>\n",
       "      <td>137xx</td>\n",
       "      <td>NY</td>\n",
       "      <td>13.72</td>\n",
       "      <td>0.0</td>\n",
       "      <td>0.0</td>\n",
       "      <td>NaN</td>\n",
       "      <td>NaN</td>\n",
       "      <td>26.0</td>\n",
       "      <td>0.0</td>\n",
       "      <td>27804.0</td>\n",
       "      <td>32.3</td>\n",
       "      <td>33.0</td>\n",
       "      <td>f</td>\n",
       "      <td>506.57</td>\n",
       "      <td>0.00</td>\n",
       "      <td>0.0</td>\n",
       "      <td>0.0</td>\n",
       "      <td>0.0</td>\n",
       "      <td>NaN</td>\n",
       "      <td>INDIVIDUAL</td>\n",
       "      <td>NaN</td>\n",
       "      <td>57th week</td>\n",
       "      <td>0.0</td>\n",
       "      <td>0.0</td>\n",
       "      <td>117035.0</td>\n",
       "      <td>86200.0</td>\n",
       "      <td>0</td>\n",
       "    </tr>\n",
       "    <tr>\n",
       "      <th>4</th>\n",
       "      <td>42563178</td>\n",
       "      <td>10000</td>\n",
       "      <td>10000</td>\n",
       "      <td>10000.0</td>\n",
       "      <td>36 months</td>\n",
       "      <td>BAT4694572</td>\n",
       "      <td>9.49</td>\n",
       "      <td>B</td>\n",
       "      <td>B2</td>\n",
       "      <td>Server</td>\n",
       "      <td>4 years</td>\n",
       "      <td>RENT</td>\n",
       "      <td>36000.0</td>\n",
       "      <td>Source Verified</td>\n",
       "      <td>n</td>\n",
       "      <td>NaN</td>\n",
       "      <td>credit_card</td>\n",
       "      <td>Credit card refinancing</td>\n",
       "      <td>900xx</td>\n",
       "      <td>CA</td>\n",
       "      <td>17.93</td>\n",
       "      <td>2.0</td>\n",
       "      <td>0.0</td>\n",
       "      <td>12.0</td>\n",
       "      <td>NaN</td>\n",
       "      <td>9.0</td>\n",
       "      <td>0.0</td>\n",
       "      <td>9244.0</td>\n",
       "      <td>24.6</td>\n",
       "      <td>15.0</td>\n",
       "      <td>w</td>\n",
       "      <td>779.70</td>\n",
       "      <td>0.00</td>\n",
       "      <td>0.0</td>\n",
       "      <td>0.0</td>\n",
       "      <td>0.0</td>\n",
       "      <td>NaN</td>\n",
       "      <td>INDIVIDUAL</td>\n",
       "      <td>NaN</td>\n",
       "      <td>52th week</td>\n",
       "      <td>0.0</td>\n",
       "      <td>381.0</td>\n",
       "      <td>33736.0</td>\n",
       "      <td>37600.0</td>\n",
       "      <td>0</td>\n",
       "    </tr>\n",
       "  </tbody>\n",
       "</table>\n",
       "</div>"
      ],
      "text/plain": [
       "   member_id  loan_amnt  funded_amnt  funded_amnt_inv       term  \\\n",
       "0   25386106      35000        35000          35000.0  60 months   \n",
       "1   61556649      19000        19000          18900.0  36 months   \n",
       "2   12619165       6600         6600           6600.0  36 months   \n",
       "3   40473262       8000         8000           8000.0  36 months   \n",
       "4   42563178      10000        10000          10000.0  36 months   \n",
       "\n",
       "  batch_enrolled  int_rate grade sub_grade emp_title emp_length  \\\n",
       "0                    23.43     F        F1   Teacher  10+ years   \n",
       "1     BAT1780517      9.99     B        B3  Chaplain  10+ years   \n",
       "2                    14.98     C        C3       NaN  10+ years   \n",
       "3     BAT4722912      6.99     A        A3   Teacher    2 years   \n",
       "4     BAT4694572      9.49     B        B2    Server    4 years   \n",
       "\n",
       "  home_ownership  annual_inc verification_status pymnt_plan desc  \\\n",
       "0       MORTGAGE    135000.0     Source Verified          n  NaN   \n",
       "1           RENT     79000.0        Not Verified          n  NaN   \n",
       "2            OWN     80000.0     Source Verified          n  NaN   \n",
       "3            OWN     60000.0            Verified          n  NaN   \n",
       "4           RENT     36000.0     Source Verified          n  NaN   \n",
       "\n",
       "              purpose                    title zip_code addr_state    dti  \\\n",
       "0  debt_consolidation       Debt consolidation    153xx         PA  27.14   \n",
       "1  debt_consolidation       Debt consolidation    130xx         NY  29.28   \n",
       "2         credit_card  Credit card refinancing    277xx         NC  13.11   \n",
       "3      major_purchase           Major purchase    137xx         NY  13.72   \n",
       "4         credit_card  Credit card refinancing    900xx         CA  17.93   \n",
       "\n",
       "   delinq_2yrs  inq_last_6mths  mths_since_last_delinq  \\\n",
       "0          0.0             2.0                     NaN   \n",
       "1          0.0             2.0                     NaN   \n",
       "2          2.0             0.0                     2.0   \n",
       "3          0.0             0.0                     NaN   \n",
       "4          2.0             0.0                    12.0   \n",
       "\n",
       "   mths_since_last_record  open_acc  pub_rec  revol_bal  revol_util  \\\n",
       "0                     NaN      49.0      0.0    31702.0        80.5   \n",
       "1                     NaN      22.0      0.0    20238.0        61.1   \n",
       "2                     NaN      18.0      0.0     4323.0        21.0   \n",
       "3                     NaN      26.0      0.0    27804.0        32.3   \n",
       "4                     NaN       9.0      0.0     9244.0        24.6   \n",
       "\n",
       "   total_acc initial_list_status  total_rec_int  total_rec_late_fee  \\\n",
       "0       75.0                   f       10702.29                0.00   \n",
       "1       35.0                   f         774.22               30.65   \n",
       "2       42.0                   f         671.56                0.00   \n",
       "3       33.0                   f         506.57                0.00   \n",
       "4       15.0                   w         779.70                0.00   \n",
       "\n",
       "   recoveries  collection_recovery_fee  collections_12_mths_ex_med  \\\n",
       "0         0.0                      0.0                         0.0   \n",
       "1         0.0                      0.0                         0.0   \n",
       "2         0.0                      0.0                         0.0   \n",
       "3         0.0                      0.0                         0.0   \n",
       "4         0.0                      0.0                         0.0   \n",
       "\n",
       "   mths_since_last_major_derog application_type verification_status_joint  \\\n",
       "0                          NaN       INDIVIDUAL                       NaN   \n",
       "1                          NaN       INDIVIDUAL                       NaN   \n",
       "2                          2.0       INDIVIDUAL                       NaN   \n",
       "3                          NaN       INDIVIDUAL                       NaN   \n",
       "4                          NaN       INDIVIDUAL                       NaN   \n",
       "\n",
       "  last_week_pay  acc_now_delinq  tot_coll_amt  tot_cur_bal  total_rev_hi_lim  \\\n",
       "0     74th week             0.0           0.0     346077.0           39400.0   \n",
       "1     22th week             0.0           0.0     110297.0           33100.0   \n",
       "2     39th week             1.0           0.0      27591.0           20600.0   \n",
       "3     57th week             0.0           0.0     117035.0           86200.0   \n",
       "4     52th week             0.0         381.0      33736.0           37600.0   \n",
       "\n",
       "   loan_status  \n",
       "0            0  \n",
       "1            0  \n",
       "2            1  \n",
       "3            0  \n",
       "4            0  "
      ]
     },
     "execution_count": 6,
     "metadata": {},
     "output_type": "execute_result"
    }
   ],
   "source": [
    "dataset.head()"
   ]
  },
  {
   "cell_type": "code",
   "execution_count": 7,
   "id": "21af8444",
   "metadata": {},
   "outputs": [
    {
     "name": "stdout",
     "output_type": "stream",
     "text": [
      "<class 'pandas.core.frame.DataFrame'>\n",
      "RangeIndex: 26621 entries, 0 to 26620\n",
      "Data columns (total 45 columns):\n",
      " #   Column                       Non-Null Count  Dtype  \n",
      "---  ------                       --------------  -----  \n",
      " 0   member_id                    26621 non-null  int64  \n",
      " 1   loan_amnt                    26621 non-null  int64  \n",
      " 2   funded_amnt                  26621 non-null  int64  \n",
      " 3   funded_amnt_inv              26621 non-null  float64\n",
      " 4   term                         26621 non-null  object \n",
      " 5   batch_enrolled               22394 non-null  object \n",
      " 6   int_rate                     26621 non-null  float64\n",
      " 7   grade                        26621 non-null  object \n",
      " 8   sub_grade                    26621 non-null  object \n",
      " 9   emp_title                    25105 non-null  object \n",
      " 10  emp_length                   25314 non-null  object \n",
      " 11  home_ownership               26621 non-null  object \n",
      " 12  annual_inc                   26621 non-null  float64\n",
      " 13  verification_status          26621 non-null  object \n",
      " 14  pymnt_plan                   26621 non-null  object \n",
      " 15  desc                         3838 non-null   object \n",
      " 16  purpose                      26621 non-null  object \n",
      " 17  title                        26618 non-null  object \n",
      " 18  zip_code                     26621 non-null  object \n",
      " 19  addr_state                   26621 non-null  object \n",
      " 20  dti                          26621 non-null  float64\n",
      " 21  delinq_2yrs                  26621 non-null  float64\n",
      " 22  inq_last_6mths               26621 non-null  float64\n",
      " 23  mths_since_last_delinq       13118 non-null  float64\n",
      " 24  mths_since_last_record       4035 non-null   float64\n",
      " 25  open_acc                     26621 non-null  float64\n",
      " 26  pub_rec                      26621 non-null  float64\n",
      " 27  revol_bal                    26621 non-null  float64\n",
      " 28  revol_util                   26606 non-null  float64\n",
      " 29  total_acc                    26621 non-null  float64\n",
      " 30  initial_list_status          26621 non-null  object \n",
      " 31  total_rec_int                26621 non-null  float64\n",
      " 32  total_rec_late_fee           26621 non-null  float64\n",
      " 33  recoveries                   26621 non-null  float64\n",
      " 34  collection_recovery_fee      26621 non-null  float64\n",
      " 35  collections_12_mths_ex_med   26617 non-null  float64\n",
      " 36  mths_since_last_major_derog  6595 non-null   float64\n",
      " 37  application_type             26621 non-null  object \n",
      " 38  verification_status_joint    17 non-null     object \n",
      " 39  last_week_pay                26621 non-null  object \n",
      " 40  acc_now_delinq               26621 non-null  float64\n",
      " 41  tot_coll_amt                 24483 non-null  float64\n",
      " 42  tot_cur_bal                  24483 non-null  float64\n",
      " 43  total_rev_hi_lim             24483 non-null  float64\n",
      " 44  loan_status                  26621 non-null  int64  \n",
      "dtypes: float64(23), int64(4), object(18)\n",
      "memory usage: 9.1+ MB\n"
     ]
    }
   ],
   "source": [
    "dataset.info()"
   ]
  },
  {
   "cell_type": "code",
   "execution_count": 8,
   "id": "113cfed1",
   "metadata": {},
   "outputs": [
    {
     "data": {
      "text/plain": [
       "member_id                          0\n",
       "loan_amnt                          0\n",
       "funded_amnt                        0\n",
       "funded_amnt_inv                    0\n",
       "term                               0\n",
       "batch_enrolled                  4227\n",
       "int_rate                           0\n",
       "grade                              0\n",
       "sub_grade                          0\n",
       "emp_title                       1516\n",
       "emp_length                      1307\n",
       "home_ownership                     0\n",
       "annual_inc                         0\n",
       "verification_status                0\n",
       "pymnt_plan                         0\n",
       "desc                           22783\n",
       "purpose                            0\n",
       "title                              3\n",
       "zip_code                           0\n",
       "addr_state                         0\n",
       "dti                                0\n",
       "delinq_2yrs                        0\n",
       "inq_last_6mths                     0\n",
       "mths_since_last_delinq         13503\n",
       "mths_since_last_record         22586\n",
       "open_acc                           0\n",
       "pub_rec                            0\n",
       "revol_bal                          0\n",
       "revol_util                        15\n",
       "total_acc                          0\n",
       "initial_list_status                0\n",
       "total_rec_int                      0\n",
       "total_rec_late_fee                 0\n",
       "recoveries                         0\n",
       "collection_recovery_fee            0\n",
       "collections_12_mths_ex_med         4\n",
       "mths_since_last_major_derog    20026\n",
       "application_type                   0\n",
       "verification_status_joint      26604\n",
       "last_week_pay                      0\n",
       "acc_now_delinq                     0\n",
       "tot_coll_amt                    2138\n",
       "tot_cur_bal                     2138\n",
       "total_rev_hi_lim                2138\n",
       "loan_status                        0\n",
       "dtype: int64"
      ]
     },
     "execution_count": 8,
     "metadata": {},
     "output_type": "execute_result"
    }
   ],
   "source": [
    "dataset.isnull().sum()"
   ]
  },
  {
   "cell_type": "code",
   "execution_count": 9,
   "id": "5366b49f",
   "metadata": {},
   "outputs": [
    {
     "data": {
      "text/plain": [
       "Index(['member_id', 'loan_amnt', 'funded_amnt', 'funded_amnt_inv', 'term',\n",
       "       'batch_enrolled', 'int_rate', 'grade', 'sub_grade', 'emp_title',\n",
       "       'emp_length', 'home_ownership', 'annual_inc', 'verification_status',\n",
       "       'pymnt_plan', 'desc', 'purpose', 'title', 'zip_code', 'addr_state',\n",
       "       'dti', 'delinq_2yrs', 'inq_last_6mths', 'mths_since_last_delinq',\n",
       "       'mths_since_last_record', 'open_acc', 'pub_rec', 'revol_bal',\n",
       "       'revol_util', 'total_acc', 'initial_list_status', 'total_rec_int',\n",
       "       'total_rec_late_fee', 'recoveries', 'collection_recovery_fee',\n",
       "       'collections_12_mths_ex_med', 'mths_since_last_major_derog',\n",
       "       'application_type', 'verification_status_joint', 'last_week_pay',\n",
       "       'acc_now_delinq', 'tot_coll_amt', 'tot_cur_bal', 'total_rev_hi_lim',\n",
       "       'loan_status'],\n",
       "      dtype='object')"
      ]
     },
     "execution_count": 9,
     "metadata": {},
     "output_type": "execute_result"
    }
   ],
   "source": [
    "dataset.columns"
   ]
  },
  {
   "cell_type": "code",
   "execution_count": 10,
   "id": "8b88bf9f",
   "metadata": {},
   "outputs": [
    {
     "data": {
      "text/plain": [
       "(26621,)"
      ]
     },
     "execution_count": 10,
     "metadata": {},
     "output_type": "execute_result"
    }
   ],
   "source": [
    "y = dataset.loan_status.values\n",
    "y.shape"
   ]
  },
  {
   "cell_type": "markdown",
   "id": "defb5160",
   "metadata": {},
   "source": [
    "## VISUALISATION"
   ]
  },
  {
   "cell_type": "code",
   "execution_count": 11,
   "id": "02e7ea24",
   "metadata": {},
   "outputs": [
    {
     "data": {
      "text/plain": [
       "<AxesSubplot:xlabel='loan_status', ylabel='count'>"
      ]
     },
     "execution_count": 11,
     "metadata": {},
     "output_type": "execute_result"
    },
    {
     "data": {
      "image/png": "[encoded data removed]",
      "text/plain": [
       "<Figure size 864x576 with 1 Axes>"
      ]
     },
     "metadata": {
      "needs_background": "light"
     },
     "output_type": "display_data"
    }
   ],
   "source": [
    "plt.figure(figsize = [12,8])\n",
    "sns.countplot(x = 'loan_status', data = dataset)"
   ]
  },
  {
   "cell_type": "code",
   "execution_count": 12,
   "id": "48ef7b17",
   "metadata": {},
   "outputs": [
    {
     "data": {
      "text/plain": [
       "<AxesSubplot:xlabel='purpose', ylabel='count'>"
      ]
     },
     "execution_count": 12,
     "metadata": {},
     "output_type": "execute_result"
    },
    {
     "data": {
      "image/png": "[encoded data removed]",
      "text/plain": [
       "<Figure size 1584x576 with 1 Axes>"
      ]
     },
     "metadata": {
      "needs_background": "light"
     },
     "output_type": "display_data"
    }
   ],
   "source": [
    "plt.figure(figsize=(22,8))\n",
    "sns.countplot(x = 'purpose', data = dataset)"
   ]
  },
  {
   "cell_type": "code",
   "execution_count": 13,
   "id": "15636c3d",
   "metadata": {},
   "outputs": [],
   "source": [
    "#dataset['home_ownership'].values_count()"
   ]
  },
  {
   "cell_type": "code",
   "execution_count": 14,
   "id": "0ebe5ab5",
   "metadata": {},
   "outputs": [
    {
     "data": {
      "text/plain": [
       "<AxesSubplot:xlabel='home_ownership', ylabel='count'>"
      ]
     },
     "execution_count": 14,
     "metadata": {},
     "output_type": "execute_result"
    },
    {
     "data": {
      "image/png": "[encoded data removed]",
      "text/plain": [
       "<Figure size 1440x576 with 1 Axes>"
      ]
     },
     "metadata": {
      "needs_background": "light"
     },
     "output_type": "display_data"
    }
   ],
   "source": [
    "plt.figure(figsize=(20,8))\n",
    "sns.countplot(x = 'home_ownership', data = dataset)"
   ]
  },
  {
   "cell_type": "code",
   "execution_count": 15,
   "id": "efb2dd54",
   "metadata": {},
   "outputs": [
    {
     "data": {
      "image/png": "[encoded data removed]",
      "text/plain": [
       "<Figure size 1440x720 with 2 Axes>"
      ]
     },
     "metadata": {
      "needs_background": "light"
     },
     "output_type": "display_data"
    }
   ],
   "source": [
    "plt.figure(figsize=(20,10))\n",
    "#cor = dataset.\n",
    "cor = dataset.drop('member_id', axis=1).corr(method = 'spearman')\n",
    "fig = sns.heatmap(cor, annot=True)\n",
    "plt.show(fig)"
   ]
  },
  {
   "cell_type": "code",
   "execution_count": 16,
   "id": "42695688",
   "metadata": {},
   "outputs": [],
   "source": [
    "#correlation, pval = spearmanr(dataset.drop(\"member_id\",axis=1))\n",
    "#print(f'correlation={correlation:.6f},p-value={pval:.6f}')\n",
    "#from scipy.stats import rankdata\n",
    "#sns.jointplot(x=dataset['emp_length'], y=dataset['loan_amnt'])"
   ]
  },
  {
   "cell_type": "code",
   "execution_count": 17,
   "id": "1711a6db",
   "metadata": {
    "scrolled": true
   },
   "outputs": [
    {
     "name": "stdout",
     "output_type": "stream",
     "text": [
      "                             loan_amnt  funded_amnt  funded_amnt_inv  \\\n",
      "loan_amnt                     1.000000     0.999438         0.996628   \n",
      "funded_amnt                   0.999438     1.000000         0.997366   \n",
      "funded_amnt_inv               0.996628     0.997366         1.000000   \n",
      "int_rate                      0.119663     0.119912         0.119889   \n",
      "annual_inc                    0.510594     0.510110         0.508614   \n",
      "dti                           0.053009     0.053838         0.056468   \n",
      "delinq_2yrs                   0.003515     0.003614         0.004519   \n",
      "inq_last_6mths               -0.033394    -0.033565        -0.036465   \n",
      "mths_since_last_delinq       -0.036907    -0.036648        -0.033242   \n",
      "mths_since_last_record        0.022529     0.022305         0.038021   \n",
      "open_acc                      0.221139     0.221522         0.222293   \n",
      "pub_rec                      -0.116194    -0.115775        -0.113660   \n",
      "revol_bal                     0.505228     0.505030         0.504645   \n",
      "revol_util                    0.123978     0.124349         0.125473   \n",
      "total_acc                     0.240272     0.240180         0.240427   \n",
      "total_rec_int                 0.547113     0.546561         0.542008   \n",
      "total_rec_late_fee           -0.015849    -0.015817        -0.019533   \n",
      "recoveries                   -0.000087    -0.000773        -0.006009   \n",
      "collection_recovery_fee      -0.003545    -0.004271        -0.009576   \n",
      "collections_12_mths_ex_med   -0.015625    -0.015453        -0.014759   \n",
      "mths_since_last_major_derog  -0.046195    -0.046195        -0.046224   \n",
      "acc_now_delinq               -0.013635    -0.013525        -0.013206   \n",
      "tot_coll_amt                 -0.077486    -0.077486        -0.077527   \n",
      "tot_cur_bal                   0.352581     0.352581         0.352547   \n",
      "total_rev_hi_lim              0.469393     0.469393         0.469521   \n",
      "loan_status                  -0.099512    -0.101340        -0.107455   \n",
      "\n",
      "                             int_rate  annual_inc       dti  delinq_2yrs  \\\n",
      "loan_amnt                    0.119663    0.510594  0.053009     0.003515   \n",
      "funded_amnt                  0.119912    0.510110  0.053838     0.003614   \n",
      "funded_amnt_inv              0.119889    0.508614  0.056468     0.004519   \n",
      "int_rate                     1.000000   -0.118082  0.162355     0.064261   \n",
      "annual_inc                  -0.118082    1.000000 -0.206470     0.087598   \n",
      "dti                          0.162355   -0.206470  1.000000    -0.006607   \n",
      "delinq_2yrs                  0.064261    0.087598 -0.006607     1.000000   \n",
      "inq_last_6mths               0.235081    0.039937  0.001128     0.019124   \n",
      "mths_since_last_delinq      -0.024973   -0.089383  0.003781    -0.813490   \n",
      "mths_since_last_record       0.044092   -0.100483  0.060334    -0.059495   \n",
      "open_acc                    -0.007123    0.252137  0.318014     0.064432   \n",
      "pub_rec                      0.071036   -0.053242 -0.045558    -0.024219   \n",
      "revol_bal                   -0.025699    0.412839  0.239630    -0.063312   \n",
      "revol_util                   0.272642    0.076525  0.164303    -0.030602   \n",
      "total_acc                   -0.043741    0.336639  0.236964     0.127013   \n",
      "total_rec_int                0.422099    0.197143  0.027056    -0.002200   \n",
      "total_rec_late_fee           0.050030   -0.007414 -0.007203     0.016832   \n",
      "recoveries                   0.117359   -0.029319 -0.010541    -0.006289   \n",
      "collection_recovery_fee      0.114856   -0.029484 -0.006643    -0.005002   \n",
      "collections_12_mths_ex_med   0.019424   -0.004451 -0.006239     0.073917   \n",
      "mths_since_last_major_derog -0.024505   -0.081823  0.035793    -0.547271   \n",
      "acc_now_delinq               0.026024    0.013281  0.010927     0.154677   \n",
      "tot_coll_amt                 0.035790   -0.038223 -0.013303     0.028135   \n",
      "tot_cur_bal                 -0.093498    0.540175  0.106780     0.091948   \n",
      "total_rev_hi_lim            -0.229929    0.411224  0.135208    -0.058694   \n",
      "loan_status                  0.011858   -0.008892 -0.124281    -0.044155   \n",
      "\n",
      "                             inq_last_6mths  mths_since_last_delinq  \\\n",
      "loan_amnt                         -0.033394               -0.036907   \n",
      "funded_amnt                       -0.033565               -0.036648   \n",
      "funded_amnt_inv                   -0.036465               -0.033242   \n",
      "int_rate                           0.235081               -0.024973   \n",
      "annual_inc                         0.039937               -0.089383   \n",
      "dti                                0.001128                0.003781   \n",
      "delinq_2yrs                        0.019124               -0.813490   \n",
      "inq_last_6mths                     1.000000                0.007395   \n",
      "mths_since_last_delinq             0.007395                1.000000   \n",
      "mths_since_last_record            -0.063634                0.013725   \n",
      "open_acc                           0.118904               -0.063887   \n",
      "pub_rec                            0.063650                0.129421   \n",
      "revol_bal                         -0.055807               -0.011474   \n",
      "revol_util                        -0.089246                0.024232   \n",
      "total_acc                          0.132341               -0.053489   \n",
      "total_rec_int                      0.088838               -0.029844   \n",
      "total_rec_late_fee                 0.028120               -0.037800   \n",
      "recoveries                         0.070952               -0.007695   \n",
      "collection_recovery_fee            0.068123               -0.009465   \n",
      "collections_12_mths_ex_med         0.015275               -0.041237   \n",
      "mths_since_last_major_derog        0.008975                0.703362   \n",
      "acc_now_delinq                    -0.013573               -0.178854   \n",
      "tot_coll_amt                       0.025589                0.062334   \n",
      "tot_cur_bal                        0.032864               -0.120750   \n",
      "total_rev_hi_lim                  -0.008934               -0.031275   \n",
      "loan_status                        0.074373                0.014359   \n",
      "\n",
      "                             mths_since_last_record  open_acc   pub_rec  \\\n",
      "loan_amnt                                  0.022529  0.221139 -0.116194   \n",
      "funded_amnt                                0.022305  0.221522 -0.115775   \n",
      "funded_amnt_inv                            0.038021  0.222293 -0.113660   \n",
      "int_rate                                   0.044092 -0.007123  0.071036   \n",
      "annual_inc                                -0.100483  0.252137 -0.053242   \n",
      "dti                                        0.060334  0.318014 -0.045558   \n",
      "delinq_2yrs                               -0.059495  0.064432 -0.024219   \n",
      "inq_last_6mths                            -0.063634  0.118904  0.063650   \n",
      "mths_since_last_delinq                     0.013725 -0.063887  0.129421   \n",
      "mths_since_last_record                     1.000000  0.010368 -0.263374   \n",
      "open_acc                                   0.010368  1.000000 -0.026250   \n",
      "pub_rec                                   -0.263374 -0.026250  1.000000   \n",
      "revol_bal                                  0.094475  0.367734 -0.226044   \n",
      "revol_util                                 0.100524 -0.157962 -0.105095   \n",
      "total_acc                                 -0.222201  0.687605  0.026396   \n",
      "total_rec_int                              0.126412  0.087267 -0.083489   \n",
      "total_rec_late_fee                        -0.040185 -0.019479 -0.018070   \n",
      "recoveries                                 0.022089 -0.031397 -0.023795   \n",
      "collection_recovery_fee                    0.021964 -0.030918 -0.021869   \n",
      "collections_12_mths_ex_med                -0.021210  0.004433  0.033720   \n",
      "mths_since_last_major_derog                0.069052 -0.021522  0.144583   \n",
      "acc_now_delinq                            -0.016688  0.014403 -0.008928   \n",
      "tot_coll_amt                              -0.070877  0.015042  0.104224   \n",
      "tot_cur_bal                                0.007211  0.343194 -0.129479   \n",
      "total_rev_hi_lim                           0.034730  0.494963 -0.207102   \n",
      "loan_status                                0.085113 -0.061564 -0.052513   \n",
      "\n",
      "                             revol_bal  revol_util  total_acc  total_rec_int  \\\n",
      "loan_amnt                     0.505228    0.123978   0.240272       0.547113   \n",
      "funded_amnt                   0.505030    0.124349   0.240180       0.546561   \n",
      "funded_amnt_inv               0.504645    0.125473   0.240427       0.542008   \n",
      "int_rate                     -0.025699    0.272642  -0.043741       0.422099   \n",
      "annual_inc                    0.412839    0.076525   0.336639       0.197143   \n",
      "dti                           0.239630    0.164303   0.236964       0.027056   \n",
      "delinq_2yrs                  -0.063312   -0.030602   0.127013      -0.002200   \n",
      "inq_last_6mths               -0.055807   -0.089246   0.132341       0.088838   \n",
      "mths_since_last_delinq       -0.011474    0.024232  -0.053489      -0.029844   \n",
      "mths_since_last_record        0.094475    0.100524  -0.222201       0.126412   \n",
      "open_acc                      0.367734   -0.157962   0.687605       0.087267   \n",
      "pub_rec                      -0.226044   -0.105095   0.026396      -0.083489   \n",
      "revol_bal                     1.000000    0.404977   0.290271       0.258548   \n",
      "revol_util                    0.404977    1.000000  -0.122040       0.195556   \n",
      "total_acc                     0.290271   -0.122040   1.000000       0.103289   \n",
      "total_rec_int                 0.258548    0.195556   0.103289       1.000000   \n",
      "total_rec_late_fee           -0.024437    0.019713  -0.013001       0.056882   \n",
      "recoveries                   -0.009027    0.047757  -0.024637       0.050916   \n",
      "collection_recovery_fee      -0.009278    0.046182  -0.024179       0.043914   \n",
      "collections_12_mths_ex_med   -0.045715   -0.040967   0.005852      -0.043303   \n",
      "mths_since_last_major_derog  -0.012051   -0.014278  -0.062983      -0.066122   \n",
      "acc_now_delinq               -0.013988   -0.032684   0.021755      -0.008734   \n",
      "tot_coll_amt                 -0.150927   -0.097301   0.019244      -0.062216   \n",
      "tot_cur_bal                   0.409463    0.105116   0.412140       0.139813   \n",
      "total_rev_hi_lim              0.788016   -0.158545   0.381909       0.142258   \n",
      "loan_status                  -0.063235   -0.042841  -0.002786       0.094373   \n",
      "\n",
      "                             total_rec_late_fee  recoveries  \\\n",
      "loan_amnt                             -0.015849   -0.000087   \n",
      "funded_amnt                           -0.015817   -0.000773   \n",
      "funded_amnt_inv                       -0.019533   -0.006009   \n",
      "int_rate                               0.050030    0.117359   \n",
      "annual_inc                            -0.007414   -0.029319   \n",
      "dti                                   -0.007203   -0.010541   \n",
      "delinq_2yrs                            0.016832   -0.006289   \n",
      "inq_last_6mths                         0.028120    0.070952   \n",
      "mths_since_last_delinq                -0.037800   -0.007695   \n",
      "mths_since_last_record                -0.040185    0.022089   \n",
      "open_acc                              -0.019479   -0.031397   \n",
      "pub_rec                               -0.018070   -0.023795   \n",
      "revol_bal                             -0.024437   -0.009027   \n",
      "revol_util                             0.019713    0.047757   \n",
      "total_acc                             -0.013001   -0.024637   \n",
      "total_rec_int                          0.056882    0.050916   \n",
      "total_rec_late_fee                     1.000000    0.125774   \n",
      "recoveries                             0.125774    1.000000   \n",
      "collection_recovery_fee                0.126327    0.974693   \n",
      "collections_12_mths_ex_med            -0.008193   -0.002813   \n",
      "mths_since_last_major_derog           -0.007237   -0.021357   \n",
      "acc_now_delinq                         0.004498   -0.003641   \n",
      "tot_coll_amt                          -0.002751   -0.000875   \n",
      "tot_cur_bal                           -0.004225   -0.011311   \n",
      "total_rev_hi_lim                      -0.029731   -0.034006   \n",
      "loan_status                           -0.008806   -0.097108   \n",
      "\n",
      "                             collection_recovery_fee  \\\n",
      "loan_amnt                                  -0.003545   \n",
      "funded_amnt                                -0.004271   \n",
      "funded_amnt_inv                            -0.009576   \n",
      "int_rate                                    0.114856   \n",
      "annual_inc                                 -0.029484   \n",
      "dti                                        -0.006643   \n",
      "delinq_2yrs                                -0.005002   \n",
      "inq_last_6mths                              0.068123   \n",
      "mths_since_last_delinq                     -0.009465   \n",
      "mths_since_last_record                      0.021964   \n",
      "open_acc                                   -0.030918   \n",
      "pub_rec                                    -0.021869   \n",
      "revol_bal                                  -0.009278   \n",
      "revol_util                                  0.046182   \n",
      "total_acc                                  -0.024179   \n",
      "total_rec_int                               0.043914   \n",
      "total_rec_late_fee                          0.126327   \n",
      "recoveries                                  0.974693   \n",
      "collection_recovery_fee                     1.000000   \n",
      "collections_12_mths_ex_med                 -0.001831   \n",
      "mths_since_last_major_derog                -0.018865   \n",
      "acc_now_delinq                             -0.003145   \n",
      "tot_coll_amt                               -0.000929   \n",
      "tot_cur_bal                                -0.012948   \n",
      "total_rev_hi_lim                           -0.034524   \n",
      "loan_status                                -0.094536   \n",
      "\n",
      "                             collections_12_mths_ex_med  \\\n",
      "loan_amnt                                     -0.015625   \n",
      "funded_amnt                                   -0.015453   \n",
      "funded_amnt_inv                               -0.014759   \n",
      "int_rate                                       0.019424   \n",
      "annual_inc                                    -0.004451   \n",
      "dti                                           -0.006239   \n",
      "delinq_2yrs                                    0.073917   \n",
      "inq_last_6mths                                 0.015275   \n",
      "mths_since_last_delinq                        -0.041237   \n",
      "mths_since_last_record                        -0.021210   \n",
      "open_acc                                       0.004433   \n",
      "pub_rec                                        0.033720   \n",
      "revol_bal                                     -0.045715   \n",
      "revol_util                                    -0.040967   \n",
      "total_acc                                      0.005852   \n",
      "total_rec_int                                 -0.043303   \n",
      "total_rec_late_fee                            -0.008193   \n",
      "recoveries                                    -0.002813   \n",
      "collection_recovery_fee                       -0.001831   \n",
      "collections_12_mths_ex_med                     1.000000   \n",
      "mths_since_last_major_derog                   -0.100181   \n",
      "acc_now_delinq                                 0.013630   \n",
      "tot_coll_amt                                   0.210621   \n",
      "tot_cur_bal                                   -0.020114   \n",
      "total_rev_hi_lim                              -0.027930   \n",
      "loan_status                                   -0.041806   \n",
      "\n",
      "                             mths_since_last_major_derog  acc_now_delinq  \\\n",
      "loan_amnt                                      -0.046195       -0.013635   \n",
      "funded_amnt                                    -0.046195       -0.013525   \n",
      "funded_amnt_inv                                -0.046224       -0.013206   \n",
      "int_rate                                       -0.024505        0.026024   \n",
      "annual_inc                                     -0.081823        0.013281   \n",
      "dti                                             0.035793        0.010927   \n",
      "delinq_2yrs                                    -0.547271        0.154677   \n",
      "inq_last_6mths                                  0.008975       -0.013573   \n",
      "mths_since_last_delinq                          0.703362       -0.178854   \n",
      "mths_since_last_record                          0.069052       -0.016688   \n",
      "open_acc                                       -0.021522        0.014403   \n",
      "pub_rec                                         0.144583       -0.008928   \n",
      "revol_bal                                      -0.012051       -0.013988   \n",
      "revol_util                                     -0.014278       -0.032684   \n",
      "total_acc                                      -0.062983        0.021755   \n",
      "total_rec_int                                  -0.066122       -0.008734   \n",
      "total_rec_late_fee                             -0.007237        0.004498   \n",
      "recoveries                                     -0.021357       -0.003641   \n",
      "collection_recovery_fee                        -0.018865       -0.003145   \n",
      "collections_12_mths_ex_med                     -0.100181        0.013630   \n",
      "mths_since_last_major_derog                     1.000000       -0.121665   \n",
      "acc_now_delinq                                 -0.121665        1.000000   \n",
      "tot_coll_amt                                    0.064299        0.003140   \n",
      "tot_cur_bal                                    -0.082747        0.018796   \n",
      "total_rev_hi_lim                               -0.008773        0.009035   \n",
      "loan_status                                    -0.064178       -0.015737   \n",
      "\n",
      "                             tot_coll_amt  tot_cur_bal  total_rev_hi_lim  \\\n",
      "loan_amnt                       -0.077486     0.352581          0.469393   \n",
      "funded_amnt                     -0.077486     0.352581          0.469393   \n",
      "funded_amnt_inv                 -0.077527     0.352547          0.469521   \n",
      "int_rate                         0.035790    -0.093498         -0.229929   \n",
      "annual_inc                      -0.038223     0.540175          0.411224   \n",
      "dti                             -0.013303     0.106780          0.135208   \n",
      "delinq_2yrs                      0.028135     0.091948         -0.058694   \n",
      "inq_last_6mths                   0.025589     0.032864         -0.008934   \n",
      "mths_since_last_delinq           0.062334    -0.120750         -0.031275   \n",
      "mths_since_last_record          -0.070877     0.007211          0.034730   \n",
      "open_acc                         0.015042     0.343194          0.494963   \n",
      "pub_rec                          0.104224    -0.129479         -0.207102   \n",
      "revol_bal                       -0.150927     0.409463          0.788016   \n",
      "revol_util                      -0.097301     0.105116         -0.158545   \n",
      "total_acc                        0.019244     0.412140          0.381909   \n",
      "total_rec_int                   -0.062216     0.139813          0.142258   \n",
      "total_rec_late_fee              -0.002751    -0.004225         -0.029731   \n",
      "recoveries                      -0.000875    -0.011311         -0.034006   \n",
      "collection_recovery_fee         -0.000929    -0.012948         -0.034524   \n",
      "collections_12_mths_ex_med       0.210621    -0.020114         -0.027930   \n",
      "mths_since_last_major_derog      0.064299    -0.082747         -0.008773   \n",
      "acc_now_delinq                   0.003140     0.018796          0.009035   \n",
      "tot_coll_amt                     1.000000    -0.035066         -0.118602   \n",
      "tot_cur_bal                     -0.035066     1.000000          0.384884   \n",
      "total_rev_hi_lim                -0.118602     0.384884          1.000000   \n",
      "loan_status                     -0.049601     0.020218         -0.025369   \n",
      "\n",
      "                             loan_status  \n",
      "loan_amnt                      -0.099512  \n",
      "funded_amnt                    -0.101340  \n",
      "funded_amnt_inv                -0.107455  \n",
      "int_rate                        0.011858  \n",
      "annual_inc                     -0.008892  \n",
      "dti                            -0.124281  \n",
      "delinq_2yrs                    -0.044155  \n",
      "inq_last_6mths                  0.074373  \n",
      "mths_since_last_delinq          0.014359  \n",
      "mths_since_last_record          0.085113  \n",
      "open_acc                       -0.061564  \n",
      "pub_rec                        -0.052513  \n",
      "revol_bal                      -0.063235  \n",
      "revol_util                     -0.042841  \n",
      "total_acc                      -0.002786  \n",
      "total_rec_int                   0.094373  \n",
      "total_rec_late_fee             -0.008806  \n",
      "recoveries                     -0.097108  \n",
      "collection_recovery_fee        -0.094536  \n",
      "collections_12_mths_ex_med     -0.041806  \n",
      "mths_since_last_major_derog    -0.064178  \n",
      "acc_now_delinq                 -0.015737  \n",
      "tot_coll_amt                   -0.049601  \n",
      "tot_cur_bal                     0.020218  \n",
      "total_rev_hi_lim               -0.025369  \n",
      "loan_status                     1.000000  \n"
     ]
    }
   ],
   "source": [
    "print(dataset.drop(\"member_id\", axis=1).corr(method='spearman'))"
   ]
  },
  {
   "cell_type": "markdown",
   "id": "14eb3ba0",
   "metadata": {},
   "source": [
    "## DATA CLEANING "
   ]
  },
  {
   "cell_type": "markdown",
   "id": "b4614b56",
   "metadata": {},
   "source": [
    "## Droping some unwanted dependent variables"
   ]
  },
  {
   "cell_type": "code",
   "execution_count": 18,
   "id": "d29796bd",
   "metadata": {},
   "outputs": [],
   "source": [
    "### columns undropped from original data ['grade','addr_state', 'pymnt_plan','verification_status','delinq_2yrs',]"
   ]
  },
  {
   "cell_type": "code",
   "execution_count": 19,
   "id": "268d4e50",
   "metadata": {},
   "outputs": [],
   "source": [
    "drop_col = ['member_id','funded_amnt', 'funded_amnt_inv', 'batch_enrolled','sub_grade', 'mths_since_last_delinq', 'mths_since_last_record', 'mths_since_last_major_derog','emp_title', 'desc','title','zip_code','verification_status_joint','last_week_pay','loan_status','recoveries']"
   ]
  },
  {
   "cell_type": "code",
   "execution_count": 20,
   "id": "58bbe3f0",
   "metadata": {},
   "outputs": [],
   "source": [
    "dataset_1 = dataset.drop(['member_id','funded_amnt', 'funded_amnt_inv', 'batch_enrolled','mths_since_last_delinq', 'mths_since_last_record', 'mths_since_last_major_derog','sub_grade', 'emp_title', 'desc','title','zip_code','verification_status_joint','last_week_pay','loan_status','recoveries'], axis=1)"
   ]
  },
  {
   "cell_type": "code",
   "execution_count": 21,
   "id": "62bd81f6",
   "metadata": {},
   "outputs": [
    {
     "data": {
      "text/plain": [
       "(26621, 29)"
      ]
     },
     "execution_count": 21,
     "metadata": {},
     "output_type": "execute_result"
    }
   ],
   "source": [
    "dataset_1.shape"
   ]
  },
  {
   "cell_type": "code",
   "execution_count": 22,
   "id": "469dd97f",
   "metadata": {},
   "outputs": [
    {
     "data": {
      "text/plain": [
       "array(['10+ years', '2 years', '4 years', '5 years', '8 years', '6 years',\n",
       "       '3 years', '7 years', nan, '< 1 year', '1 year', '9 years'],\n",
       "      dtype=object)"
      ]
     },
     "execution_count": 22,
     "metadata": {},
     "output_type": "execute_result"
    }
   ],
   "source": [
    "dataset_1.emp_length.unique()"
   ]
  },
  {
   "cell_type": "code",
   "execution_count": 23,
   "id": "dbda4950",
   "metadata": {},
   "outputs": [
    {
     "data": {
      "text/plain": [
       "Index(['loan_amnt', 'term', 'int_rate', 'grade', 'emp_length',\n",
       "       'home_ownership', 'annual_inc', 'verification_status', 'pymnt_plan',\n",
       "       'purpose', 'addr_state', 'dti', 'delinq_2yrs', 'inq_last_6mths',\n",
       "       'open_acc', 'pub_rec', 'revol_bal', 'revol_util', 'total_acc',\n",
       "       'initial_list_status', 'total_rec_int', 'total_rec_late_fee',\n",
       "       'collection_recovery_fee', 'collections_12_mths_ex_med',\n",
       "       'application_type', 'acc_now_delinq', 'tot_coll_amt', 'tot_cur_bal',\n",
       "       'total_rev_hi_lim'],\n",
       "      dtype='object')"
      ]
     },
     "execution_count": 23,
     "metadata": {},
     "output_type": "execute_result"
    }
   ],
   "source": [
    "columns  = dataset_1.columns\n",
    "columns"
   ]
  },
  {
   "cell_type": "code",
   "execution_count": 24,
   "id": "7ca1ec56",
   "metadata": {},
   "outputs": [
    {
     "data": {
      "text/plain": [
       "array(['INDIVIDUAL', 'JOINT'], dtype=object)"
      ]
     },
     "execution_count": 24,
     "metadata": {},
     "output_type": "execute_result"
    }
   ],
   "source": [
    "dataset_1.application_type.unique()"
   ]
  },
  {
   "cell_type": "markdown",
   "id": "ca3ee000",
   "metadata": {},
   "source": [
    "### Converting objects variables to integers"
   ]
  },
  {
   "cell_type": "code",
   "execution_count": 25,
   "id": "f358feab",
   "metadata": {},
   "outputs": [],
   "source": [
    "dataset_1['emp_length'] = dataset_1['emp_length'].replace({np.nan:0, '< 1 year':1, '1 year':2, '2 years':3, '3 years':4, '4 years':5, '5 years':6, '6 years':7, '7 years':8, '8 years':9, '9 years':10, '10+ years':11})\n",
    "\n",
    "dataset_1['term'] = dataset_1['term'].replace({'36 months':36, '60 months':60})\n",
    "\n",
    "dataset_1['home_ownership']=dataset_1['home_ownership'].replace({'OWN':6, 'MORTGAGE':5, 'RENT':4, 'OTHER':3, 'NONE':2, 'ANY':1})\n",
    "\n",
    "dataset_1['purpose'] = dataset_1['purpose'].replace({'small_business':1,'debt_consolidation':2, 'home_improvement':3, 'credit_card':4,'major_purchase':5,  \n",
    "                                                     'vacation':6, 'car':7, 'moving':8,'medical':9, 'wedding':10, 'renewable_energy':11, 'house':12, 'educational':13,'other':14,})\n",
    "dataset_1['application_type'] = dataset_1['application_type'].replace({'INDIVIDUAL':1, 'JOINT':2})\n",
    "\n",
    "dataset_1['verification_status'] = dataset_1['verification_status'].replace({'Source Verified':1, 'Not Verified':0, 'Verified':1})\n",
    "\n",
    "dataset_1['grade'] = dataset_1['grade'].replace({'E':2, 'B':5, 'A':6, 'D':3, 'C':4, 'F':1, 'G':0})\n",
    "\n",
    "dataset_1['pymnt_plan'] = dataset_1['pymnt_plan'].replace({'n':0, 'y':1})\n",
    "\n",
    "dataset_1['initial_list_status'] = dataset_1['initial_list_status'].replace({'f':1, 'w':0})\n",
    "\n",
    "dataset_1['addr_state'] = dataset_1['addr_state'].replace({'ND':0, 'NE':0,'IA':0,'NV':0,'FL':0,'HI':0,'AL':0,'NY':0,'NM':1,'VA':1,'OK':2,'TN':2,'MO':2,'LA':2,'MD':2,'NC':2,'UT':3,\n",
    "                 'KY':3,'AZ':3,'NJ':3,'AR':4,'MI':4,'PA':4,'OH':4,'MN':4,'CA':4,'RI':5,'MA':5,'DE':5,'SD':5,'IN':5,'GA':6,'WA':6,'OR':6,\n",
    "                 'WI':7,'MT':7,'IL':8,'CT':8,'KS':9,'SC':9,'CO':9,'VT':9,'AK':9,'MS':9,'TX':9,'WV':10,'NH':10,'WY':10,'DC':10,'ME':10,'ID':10})\n",
    "\n",
    "    "
   ]
  },
  {
   "cell_type": "code",
   "execution_count": 26,
   "id": "1e68b63c",
   "metadata": {},
   "outputs": [
    {
     "data": {
      "text/plain": [
       "array([ 4,  0,  2,  9,  3,  6,  8, 10,  1,  5,  7], dtype=int64)"
      ]
     },
     "execution_count": 26,
     "metadata": {},
     "output_type": "execute_result"
    }
   ],
   "source": [
    "dataset_1.addr_state.unique()"
   ]
  },
  {
   "cell_type": "markdown",
   "id": "d8fb9127",
   "metadata": {},
   "source": [
    "## New features"
   ]
  },
  {
   "cell_type": "code",
   "execution_count": 27,
   "id": "e295001b",
   "metadata": {},
   "outputs": [],
   "source": [
    "dataset_1['term'] = dataset_1['term'].apply(lambda x: float(x))"
   ]
  },
  {
   "cell_type": "code",
   "execution_count": 28,
   "id": "8ac35403",
   "metadata": {},
   "outputs": [],
   "source": [
    "value = -9999\n",
    "def helping_features(value):\n",
    "    i = ((dataset_1['int_rate'])/100)/12\n",
    "    d = 1 - (1/(1+i)**dataset_1['term'])\n",
    "    dataset_1['Monthly_supposed_payment'] = (dataset_1['loan_amnt']*i)/d\n",
    "    dataset_1['Total_refund'] = dataset_1['Monthly_supposed_payment']*dataset_1['term']\n",
    "    #dataset['Interest_amnt'] = dataset['Total_refund'] - dataset['loan_amnt']\n",
    "    dataset_1['Monthly_income'] = dataset_1['annual_inc'].apply(lambda x : x/12 if x >=0 else -9999)"
   ]
  },
  {
   "cell_type": "code",
   "execution_count": 29,
   "id": "04e36d4c",
   "metadata": {},
   "outputs": [
    {
     "data": {
      "text/html": [
       "<div>\n",
       "<style scoped>\n",
       "    .dataframe tbody tr th:only-of-type {\n",
       "        vertical-align: middle;\n",
       "    }\n",
       "\n",
       "    .dataframe tbody tr th {\n",
       "        vertical-align: top;\n",
       "    }\n",
       "\n",
       "    .dataframe thead th {\n",
       "        text-align: right;\n",
       "    }\n",
       "</style>\n",
       "<table border=\"1\" class=\"dataframe\">\n",
       "  <thead>\n",
       "    <tr style=\"text-align: right;\">\n",
       "      <th></th>\n",
       "      <th>loan_amnt</th>\n",
       "      <th>term</th>\n",
       "      <th>int_rate</th>\n",
       "      <th>grade</th>\n",
       "      <th>emp_length</th>\n",
       "      <th>home_ownership</th>\n",
       "      <th>annual_inc</th>\n",
       "      <th>verification_status</th>\n",
       "      <th>pymnt_plan</th>\n",
       "      <th>purpose</th>\n",
       "      <th>addr_state</th>\n",
       "      <th>dti</th>\n",
       "      <th>delinq_2yrs</th>\n",
       "      <th>inq_last_6mths</th>\n",
       "      <th>open_acc</th>\n",
       "      <th>pub_rec</th>\n",
       "      <th>revol_bal</th>\n",
       "      <th>revol_util</th>\n",
       "      <th>total_acc</th>\n",
       "      <th>initial_list_status</th>\n",
       "      <th>total_rec_int</th>\n",
       "      <th>total_rec_late_fee</th>\n",
       "      <th>collection_recovery_fee</th>\n",
       "      <th>collections_12_mths_ex_med</th>\n",
       "      <th>application_type</th>\n",
       "      <th>acc_now_delinq</th>\n",
       "      <th>tot_coll_amt</th>\n",
       "      <th>tot_cur_bal</th>\n",
       "      <th>total_rev_hi_lim</th>\n",
       "      <th>Monthly_supposed_payment</th>\n",
       "      <th>Total_refund</th>\n",
       "      <th>Monthly_income</th>\n",
       "    </tr>\n",
       "  </thead>\n",
       "  <tbody>\n",
       "    <tr>\n",
       "      <th>0</th>\n",
       "      <td>35000</td>\n",
       "      <td>60.0</td>\n",
       "      <td>23.43</td>\n",
       "      <td>1</td>\n",
       "      <td>11</td>\n",
       "      <td>5</td>\n",
       "      <td>135000.0</td>\n",
       "      <td>1</td>\n",
       "      <td>0</td>\n",
       "      <td>2</td>\n",
       "      <td>4</td>\n",
       "      <td>27.14</td>\n",
       "      <td>0.0</td>\n",
       "      <td>2.0</td>\n",
       "      <td>49.0</td>\n",
       "      <td>0.0</td>\n",
       "      <td>31702.0</td>\n",
       "      <td>80.5</td>\n",
       "      <td>75.0</td>\n",
       "      <td>1</td>\n",
       "      <td>10702.29</td>\n",
       "      <td>0.00</td>\n",
       "      <td>0.0</td>\n",
       "      <td>0.0</td>\n",
       "      <td>1</td>\n",
       "      <td>0.0</td>\n",
       "      <td>0.0</td>\n",
       "      <td>346077.0</td>\n",
       "      <td>39400.0</td>\n",
       "      <td>995.332472</td>\n",
       "      <td>59719.948316</td>\n",
       "      <td>11250.000000</td>\n",
       "    </tr>\n",
       "    <tr>\n",
       "      <th>1</th>\n",
       "      <td>19000</td>\n",
       "      <td>36.0</td>\n",
       "      <td>9.99</td>\n",
       "      <td>5</td>\n",
       "      <td>11</td>\n",
       "      <td>4</td>\n",
       "      <td>79000.0</td>\n",
       "      <td>0</td>\n",
       "      <td>0</td>\n",
       "      <td>2</td>\n",
       "      <td>0</td>\n",
       "      <td>29.28</td>\n",
       "      <td>0.0</td>\n",
       "      <td>2.0</td>\n",
       "      <td>22.0</td>\n",
       "      <td>0.0</td>\n",
       "      <td>20238.0</td>\n",
       "      <td>61.1</td>\n",
       "      <td>35.0</td>\n",
       "      <td>1</td>\n",
       "      <td>774.22</td>\n",
       "      <td>30.65</td>\n",
       "      <td>0.0</td>\n",
       "      <td>0.0</td>\n",
       "      <td>1</td>\n",
       "      <td>0.0</td>\n",
       "      <td>0.0</td>\n",
       "      <td>110297.0</td>\n",
       "      <td>33100.0</td>\n",
       "      <td>612.987357</td>\n",
       "      <td>22067.544839</td>\n",
       "      <td>6583.333333</td>\n",
       "    </tr>\n",
       "    <tr>\n",
       "      <th>2</th>\n",
       "      <td>6600</td>\n",
       "      <td>36.0</td>\n",
       "      <td>14.98</td>\n",
       "      <td>4</td>\n",
       "      <td>11</td>\n",
       "      <td>6</td>\n",
       "      <td>80000.0</td>\n",
       "      <td>1</td>\n",
       "      <td>0</td>\n",
       "      <td>4</td>\n",
       "      <td>2</td>\n",
       "      <td>13.11</td>\n",
       "      <td>2.0</td>\n",
       "      <td>0.0</td>\n",
       "      <td>18.0</td>\n",
       "      <td>0.0</td>\n",
       "      <td>4323.0</td>\n",
       "      <td>21.0</td>\n",
       "      <td>42.0</td>\n",
       "      <td>1</td>\n",
       "      <td>671.56</td>\n",
       "      <td>0.00</td>\n",
       "      <td>0.0</td>\n",
       "      <td>0.0</td>\n",
       "      <td>1</td>\n",
       "      <td>1.0</td>\n",
       "      <td>0.0</td>\n",
       "      <td>27591.0</td>\n",
       "      <td>20600.0</td>\n",
       "      <td>228.726532</td>\n",
       "      <td>8234.155168</td>\n",
       "      <td>6666.666667</td>\n",
       "    </tr>\n",
       "    <tr>\n",
       "      <th>3</th>\n",
       "      <td>8000</td>\n",
       "      <td>36.0</td>\n",
       "      <td>6.99</td>\n",
       "      <td>6</td>\n",
       "      <td>3</td>\n",
       "      <td>6</td>\n",
       "      <td>60000.0</td>\n",
       "      <td>1</td>\n",
       "      <td>0</td>\n",
       "      <td>5</td>\n",
       "      <td>0</td>\n",
       "      <td>13.72</td>\n",
       "      <td>0.0</td>\n",
       "      <td>0.0</td>\n",
       "      <td>26.0</td>\n",
       "      <td>0.0</td>\n",
       "      <td>27804.0</td>\n",
       "      <td>32.3</td>\n",
       "      <td>33.0</td>\n",
       "      <td>1</td>\n",
       "      <td>506.57</td>\n",
       "      <td>0.00</td>\n",
       "      <td>0.0</td>\n",
       "      <td>0.0</td>\n",
       "      <td>1</td>\n",
       "      <td>0.0</td>\n",
       "      <td>0.0</td>\n",
       "      <td>117035.0</td>\n",
       "      <td>86200.0</td>\n",
       "      <td>246.980199</td>\n",
       "      <td>8891.287175</td>\n",
       "      <td>5000.000000</td>\n",
       "    </tr>\n",
       "    <tr>\n",
       "      <th>4</th>\n",
       "      <td>10000</td>\n",
       "      <td>36.0</td>\n",
       "      <td>9.49</td>\n",
       "      <td>5</td>\n",
       "      <td>5</td>\n",
       "      <td>4</td>\n",
       "      <td>36000.0</td>\n",
       "      <td>1</td>\n",
       "      <td>0</td>\n",
       "      <td>4</td>\n",
       "      <td>4</td>\n",
       "      <td>17.93</td>\n",
       "      <td>2.0</td>\n",
       "      <td>0.0</td>\n",
       "      <td>9.0</td>\n",
       "      <td>0.0</td>\n",
       "      <td>9244.0</td>\n",
       "      <td>24.6</td>\n",
       "      <td>15.0</td>\n",
       "      <td>0</td>\n",
       "      <td>779.70</td>\n",
       "      <td>0.00</td>\n",
       "      <td>0.0</td>\n",
       "      <td>0.0</td>\n",
       "      <td>1</td>\n",
       "      <td>0.0</td>\n",
       "      <td>381.0</td>\n",
       "      <td>33736.0</td>\n",
       "      <td>37600.0</td>\n",
       "      <td>320.282754</td>\n",
       "      <td>11530.179142</td>\n",
       "      <td>3000.000000</td>\n",
       "    </tr>\n",
       "  </tbody>\n",
       "</table>\n",
       "</div>"
      ],
      "text/plain": [
       "   loan_amnt  term  int_rate  grade  emp_length  home_ownership  annual_inc  \\\n",
       "0      35000  60.0     23.43      1          11               5    135000.0   \n",
       "1      19000  36.0      9.99      5          11               4     79000.0   \n",
       "2       6600  36.0     14.98      4          11               6     80000.0   \n",
       "3       8000  36.0      6.99      6           3               6     60000.0   \n",
       "4      10000  36.0      9.49      5           5               4     36000.0   \n",
       "\n",
       "   verification_status  pymnt_plan  purpose  addr_state    dti  delinq_2yrs  \\\n",
       "0                    1           0        2           4  27.14          0.0   \n",
       "1                    0           0        2           0  29.28          0.0   \n",
       "2                    1           0        4           2  13.11          2.0   \n",
       "3                    1           0        5           0  13.72          0.0   \n",
       "4                    1           0        4           4  17.93          2.0   \n",
       "\n",
       "   inq_last_6mths  open_acc  pub_rec  revol_bal  revol_util  total_acc  \\\n",
       "0             2.0      49.0      0.0    31702.0        80.5       75.0   \n",
       "1             2.0      22.0      0.0    20238.0        61.1       35.0   \n",
       "2             0.0      18.0      0.0     4323.0        21.0       42.0   \n",
       "3             0.0      26.0      0.0    27804.0        32.3       33.0   \n",
       "4             0.0       9.0      0.0     9244.0        24.6       15.0   \n",
       "\n",
       "   initial_list_status  total_rec_int  total_rec_late_fee  \\\n",
       "0                    1       10702.29                0.00   \n",
       "1                    1         774.22               30.65   \n",
       "2                    1         671.56                0.00   \n",
       "3                    1         506.57                0.00   \n",
       "4                    0         779.70                0.00   \n",
       "\n",
       "   collection_recovery_fee  collections_12_mths_ex_med  application_type  \\\n",
       "0                      0.0                         0.0                 1   \n",
       "1                      0.0                         0.0                 1   \n",
       "2                      0.0                         0.0                 1   \n",
       "3                      0.0                         0.0                 1   \n",
       "4                      0.0                         0.0                 1   \n",
       "\n",
       "   acc_now_delinq  tot_coll_amt  tot_cur_bal  total_rev_hi_lim  \\\n",
       "0             0.0           0.0     346077.0           39400.0   \n",
       "1             0.0           0.0     110297.0           33100.0   \n",
       "2             1.0           0.0      27591.0           20600.0   \n",
       "3             0.0           0.0     117035.0           86200.0   \n",
       "4             0.0         381.0      33736.0           37600.0   \n",
       "\n",
       "   Monthly_supposed_payment  Total_refund  Monthly_income  \n",
       "0                995.332472  59719.948316    11250.000000  \n",
       "1                612.987357  22067.544839     6583.333333  \n",
       "2                228.726532   8234.155168     6666.666667  \n",
       "3                246.980199   8891.287175     5000.000000  \n",
       "4                320.282754  11530.179142     3000.000000  "
      ]
     },
     "execution_count": 29,
     "metadata": {},
     "output_type": "execute_result"
    }
   ],
   "source": [
    "helping_features(-9999)\n",
    "dataset_1.head()"
   ]
  },
  {
   "cell_type": "code",
   "execution_count": 30,
   "id": "4e870c71",
   "metadata": {},
   "outputs": [
    {
     "data": {
      "text/plain": [
       "array([ 0.,  1.,  2., nan,  4.,  3.,  5.])"
      ]
     },
     "execution_count": 30,
     "metadata": {},
     "output_type": "execute_result"
    }
   ],
   "source": [
    "dataset_1.collections_12_mths_ex_med.unique()"
   ]
  },
  {
   "cell_type": "markdown",
   "id": "378d811c",
   "metadata": {},
   "source": [
    "## Filling missing values"
   ]
  },
  {
   "cell_type": "code",
   "execution_count": 31,
   "id": "e431b125",
   "metadata": {},
   "outputs": [
    {
     "data": {
      "text/plain": [
       "loan_amnt                        0\n",
       "term                             0\n",
       "int_rate                         0\n",
       "grade                            0\n",
       "emp_length                       0\n",
       "home_ownership                   0\n",
       "annual_inc                       0\n",
       "verification_status              0\n",
       "pymnt_plan                       0\n",
       "purpose                          0\n",
       "addr_state                       0\n",
       "dti                              0\n",
       "delinq_2yrs                      0\n",
       "inq_last_6mths                   0\n",
       "open_acc                         0\n",
       "pub_rec                          0\n",
       "revol_bal                        0\n",
       "revol_util                      15\n",
       "total_acc                        0\n",
       "initial_list_status              0\n",
       "total_rec_int                    0\n",
       "total_rec_late_fee               0\n",
       "collection_recovery_fee          0\n",
       "collections_12_mths_ex_med       4\n",
       "application_type                 0\n",
       "acc_now_delinq                   0\n",
       "tot_coll_amt                  2138\n",
       "tot_cur_bal                   2138\n",
       "total_rev_hi_lim              2138\n",
       "Monthly_supposed_payment         0\n",
       "Total_refund                     0\n",
       "Monthly_income                   0\n",
       "dtype: int64"
      ]
     },
     "execution_count": 31,
     "metadata": {},
     "output_type": "execute_result"
    }
   ],
   "source": [
    "dataset_1.isnull().sum()"
   ]
  },
  {
   "cell_type": "code",
   "execution_count": 32,
   "id": "eb0f4202",
   "metadata": {},
   "outputs": [],
   "source": [
    "def fill_nulls(value):\n",
    "    cols_fill = ['collections_12_mths_ex_med','revol_util', 'tot_coll_amt', 'tot_cur_bal', 'total_rev_hi_lim']\n",
    "    \n",
    "    if value == -9999:\n",
    "        for col in cols_fill:\n",
    "            dataset_1.loc[dataset_1[col].isnull(), col] = -9999\n",
    "    else : \n",
    "        for col in cols_fill:\n",
    "            dataset_1.loc[dataset_1[col].isnull(), col] = dataset_1[col].mean()"
   ]
  },
  {
   "cell_type": "code",
   "execution_count": 33,
   "id": "027f1a47",
   "metadata": {},
   "outputs": [],
   "source": [
    "fill_nulls(-9999)"
   ]
  },
  {
   "cell_type": "code",
   "execution_count": 34,
   "id": "583560db",
   "metadata": {},
   "outputs": [
    {
     "data": {
      "text/plain": [
       "Index(['loan_amnt', 'term', 'int_rate', 'grade', 'emp_length',\n",
       "       'home_ownership', 'annual_inc', 'verification_status', 'pymnt_plan',\n",
       "       'purpose', 'addr_state', 'dti', 'delinq_2yrs', 'inq_last_6mths',\n",
       "       'open_acc', 'pub_rec', 'revol_bal', 'revol_util', 'total_acc',\n",
       "       'initial_list_status', 'total_rec_int', 'total_rec_late_fee',\n",
       "       'collection_recovery_fee', 'collections_12_mths_ex_med',\n",
       "       'application_type', 'acc_now_delinq', 'tot_coll_amt', 'tot_cur_bal',\n",
       "       'total_rev_hi_lim', 'Monthly_supposed_payment', 'Total_refund',\n",
       "       'Monthly_income'],\n",
       "      dtype='object')"
      ]
     },
     "execution_count": 34,
     "metadata": {},
     "output_type": "execute_result"
    }
   ],
   "source": [
    "dataset_1.columns"
   ]
  },
  {
   "cell_type": "code",
   "execution_count": 35,
   "id": "61d2744c",
   "metadata": {},
   "outputs": [
    {
     "name": "stdout",
     "output_type": "stream",
     "text": [
      "<class 'pandas.core.frame.DataFrame'>\n",
      "RangeIndex: 26621 entries, 0 to 26620\n",
      "Data columns (total 32 columns):\n",
      " #   Column                      Non-Null Count  Dtype  \n",
      "---  ------                      --------------  -----  \n",
      " 0   loan_amnt                   26621 non-null  int64  \n",
      " 1   term                        26621 non-null  float64\n",
      " 2   int_rate                    26621 non-null  float64\n",
      " 3   grade                       26621 non-null  int64  \n",
      " 4   emp_length                  26621 non-null  int64  \n",
      " 5   home_ownership              26621 non-null  int64  \n",
      " 6   annual_inc                  26621 non-null  float64\n",
      " 7   verification_status         26621 non-null  int64  \n",
      " 8   pymnt_plan                  26621 non-null  int64  \n",
      " 9   purpose                     26621 non-null  int64  \n",
      " 10  addr_state                  26621 non-null  int64  \n",
      " 11  dti                         26621 non-null  float64\n",
      " 12  delinq_2yrs                 26621 non-null  float64\n",
      " 13  inq_last_6mths              26621 non-null  float64\n",
      " 14  open_acc                    26621 non-null  float64\n",
      " 15  pub_rec                     26621 non-null  float64\n",
      " 16  revol_bal                   26621 non-null  float64\n",
      " 17  revol_util                  26621 non-null  float64\n",
      " 18  total_acc                   26621 non-null  float64\n",
      " 19  initial_list_status         26621 non-null  int64  \n",
      " 20  total_rec_int               26621 non-null  float64\n",
      " 21  total_rec_late_fee          26621 non-null  float64\n",
      " 22  collection_recovery_fee     26621 non-null  float64\n",
      " 23  collections_12_mths_ex_med  26621 non-null  float64\n",
      " 24  application_type            26621 non-null  int64  \n",
      " 25  acc_now_delinq              26621 non-null  float64\n",
      " 26  tot_coll_amt                26621 non-null  float64\n",
      " 27  tot_cur_bal                 26621 non-null  float64\n",
      " 28  total_rev_hi_lim            26621 non-null  float64\n",
      " 29  Monthly_supposed_payment    26621 non-null  float64\n",
      " 30  Total_refund                26621 non-null  float64\n",
      " 31  Monthly_income              26621 non-null  float64\n",
      "dtypes: float64(22), int64(10)\n",
      "memory usage: 6.5 MB\n"
     ]
    }
   ],
   "source": [
    "dataset_1.info()"
   ]
  },
  {
   "cell_type": "markdown",
   "id": "12a4e0cf",
   "metadata": {},
   "source": [
    "## SCALING THE DATASET "
   ]
  },
  {
   "cell_type": "code",
   "execution_count": 36,
   "id": "6b18266a",
   "metadata": {},
   "outputs": [
    {
     "data": {
      "text/plain": [
       "Index(['loan_amnt', 'term', 'int_rate', 'grade', 'emp_length',\n",
       "       'home_ownership', 'annual_inc', 'verification_status', 'pymnt_plan',\n",
       "       'purpose', 'addr_state', 'dti', 'delinq_2yrs', 'inq_last_6mths',\n",
       "       'open_acc', 'pub_rec', 'revol_bal', 'revol_util', 'total_acc',\n",
       "       'initial_list_status', 'total_rec_int', 'total_rec_late_fee',\n",
       "       'collection_recovery_fee', 'collections_12_mths_ex_med',\n",
       "       'application_type', 'acc_now_delinq', 'tot_coll_amt', 'tot_cur_bal',\n",
       "       'total_rev_hi_lim', 'Monthly_supposed_payment', 'Total_refund',\n",
       "       'Monthly_income'],\n",
       "      dtype='object')"
      ]
     },
     "execution_count": 36,
     "metadata": {},
     "output_type": "execute_result"
    }
   ],
   "source": [
    "columns = dataset_1.columns\n",
    "columns"
   ]
  },
  {
   "cell_type": "code",
   "execution_count": 37,
   "id": "c22687b1",
   "metadata": {},
   "outputs": [
    {
     "data": {
      "text/html": [
       "<div>\n",
       "<style scoped>\n",
       "    .dataframe tbody tr th:only-of-type {\n",
       "        vertical-align: middle;\n",
       "    }\n",
       "\n",
       "    .dataframe tbody tr th {\n",
       "        vertical-align: top;\n",
       "    }\n",
       "\n",
       "    .dataframe thead th {\n",
       "        text-align: right;\n",
       "    }\n",
       "</style>\n",
       "<table border=\"1\" class=\"dataframe\">\n",
       "  <thead>\n",
       "    <tr style=\"text-align: right;\">\n",
       "      <th></th>\n",
       "      <th>loan_amnt</th>\n",
       "      <th>term</th>\n",
       "      <th>int_rate</th>\n",
       "      <th>grade</th>\n",
       "      <th>emp_length</th>\n",
       "      <th>home_ownership</th>\n",
       "      <th>annual_inc</th>\n",
       "      <th>verification_status</th>\n",
       "      <th>pymnt_plan</th>\n",
       "      <th>purpose</th>\n",
       "      <th>addr_state</th>\n",
       "      <th>dti</th>\n",
       "      <th>delinq_2yrs</th>\n",
       "      <th>inq_last_6mths</th>\n",
       "      <th>open_acc</th>\n",
       "      <th>pub_rec</th>\n",
       "      <th>revol_bal</th>\n",
       "      <th>revol_util</th>\n",
       "      <th>total_acc</th>\n",
       "      <th>initial_list_status</th>\n",
       "      <th>total_rec_int</th>\n",
       "      <th>total_rec_late_fee</th>\n",
       "      <th>collection_recovery_fee</th>\n",
       "      <th>collections_12_mths_ex_med</th>\n",
       "      <th>application_type</th>\n",
       "      <th>acc_now_delinq</th>\n",
       "      <th>tot_coll_amt</th>\n",
       "      <th>tot_cur_bal</th>\n",
       "      <th>total_rev_hi_lim</th>\n",
       "      <th>Monthly_supposed_payment</th>\n",
       "      <th>Total_refund</th>\n",
       "      <th>Monthly_income</th>\n",
       "    </tr>\n",
       "  </thead>\n",
       "  <tbody>\n",
       "    <tr>\n",
       "      <th>0</th>\n",
       "      <td>2.400992</td>\n",
       "      <td>1.521983</td>\n",
       "      <td>2.339654</td>\n",
       "      <td>-2.456020</td>\n",
       "      <td>1.123245</td>\n",
       "      <td>0.471572</td>\n",
       "      <td>0.836856</td>\n",
       "      <td>0.651534</td>\n",
       "      <td>0.0</td>\n",
       "      <td>-0.498236</td>\n",
       "      <td>-0.036645</td>\n",
       "      <td>1.092580</td>\n",
       "      <td>-0.360911</td>\n",
       "      <td>1.322423</td>\n",
       "      <td>7.144052</td>\n",
       "      <td>-0.314012</td>\n",
       "      <td>0.651221</td>\n",
       "      <td>0.129825</td>\n",
       "      <td>4.222159</td>\n",
       "      <td>0.972322</td>\n",
       "      <td>4.186758</td>\n",
       "      <td>-0.096581</td>\n",
       "      <td>-0.079717</td>\n",
       "      <td>0.012138</td>\n",
       "      <td>-0.025278</td>\n",
       "      <td>-0.070320</td>\n",
       "      <td>0.181932</td>\n",
       "      <td>1.390015</td>\n",
       "      <td>0.314391</td>\n",
       "      <td>2.295524</td>\n",
       "      <td>3.346880</td>\n",
       "      <td>0.836856</td>\n",
       "    </tr>\n",
       "    <tr>\n",
       "      <th>1</th>\n",
       "      <td>0.503562</td>\n",
       "      <td>-0.657038</td>\n",
       "      <td>-0.738189</td>\n",
       "      <td>0.602702</td>\n",
       "      <td>1.123245</td>\n",
       "      <td>-1.088284</td>\n",
       "      <td>0.053102</td>\n",
       "      <td>-1.534839</td>\n",
       "      <td>0.0</td>\n",
       "      <td>-0.498236</td>\n",
       "      <td>-1.369800</td>\n",
       "      <td>1.350092</td>\n",
       "      <td>-0.360911</td>\n",
       "      <td>1.322423</td>\n",
       "      <td>2.002063</td>\n",
       "      <td>-0.314012</td>\n",
       "      <td>0.145303</td>\n",
       "      <td>0.048922</td>\n",
       "      <td>0.830719</td>\n",
       "      <td>0.972322</td>\n",
       "      <td>-0.462838</td>\n",
       "      <td>7.309022</td>\n",
       "      <td>-0.079717</td>\n",
       "      <td>0.012138</td>\n",
       "      <td>-0.025278</td>\n",
       "      <td>-0.070320</td>\n",
       "      <td>0.181932</td>\n",
       "      <td>-0.120756</td>\n",
       "      <td>0.129189</td>\n",
       "      <td>0.725300</td>\n",
       "      <td>0.231720</td>\n",
       "      <td>0.053102</td>\n",
       "    </tr>\n",
       "    <tr>\n",
       "      <th>2</th>\n",
       "      <td>-0.966947</td>\n",
       "      <td>-0.657038</td>\n",
       "      <td>0.404552</td>\n",
       "      <td>-0.161979</td>\n",
       "      <td>1.123245</td>\n",
       "      <td>2.031429</td>\n",
       "      <td>0.067097</td>\n",
       "      <td>0.651534</td>\n",
       "      <td>0.0</td>\n",
       "      <td>0.208719</td>\n",
       "      <td>-0.703223</td>\n",
       "      <td>-0.595689</td>\n",
       "      <td>1.930758</td>\n",
       "      <td>-0.694837</td>\n",
       "      <td>1.240286</td>\n",
       "      <td>-0.314012</td>\n",
       "      <td>-0.557042</td>\n",
       "      <td>-0.118304</td>\n",
       "      <td>1.424221</td>\n",
       "      <td>0.972322</td>\n",
       "      <td>-0.510916</td>\n",
       "      <td>-0.096581</td>\n",
       "      <td>-0.079717</td>\n",
       "      <td>0.012138</td>\n",
       "      <td>-0.025278</td>\n",
       "      <td>11.703155</td>\n",
       "      <td>0.181932</td>\n",
       "      <td>-0.650699</td>\n",
       "      <td>-0.238276</td>\n",
       "      <td>-0.852792</td>\n",
       "      <td>-0.912781</td>\n",
       "      <td>0.067097</td>\n",
       "    </tr>\n",
       "    <tr>\n",
       "      <th>3</th>\n",
       "      <td>-0.800922</td>\n",
       "      <td>-0.657038</td>\n",
       "      <td>-1.425208</td>\n",
       "      <td>1.367382</td>\n",
       "      <td>-0.935849</td>\n",
       "      <td>2.031429</td>\n",
       "      <td>-0.212815</td>\n",
       "      <td>0.651534</td>\n",
       "      <td>0.0</td>\n",
       "      <td>0.562197</td>\n",
       "      <td>-1.369800</td>\n",
       "      <td>-0.522286</td>\n",
       "      <td>-0.360911</td>\n",
       "      <td>-0.694837</td>\n",
       "      <td>2.763839</td>\n",
       "      <td>-0.314012</td>\n",
       "      <td>0.479198</td>\n",
       "      <td>-0.071180</td>\n",
       "      <td>0.661147</td>\n",
       "      <td>0.972322</td>\n",
       "      <td>-0.588186</td>\n",
       "      <td>-0.096581</td>\n",
       "      <td>-0.079717</td>\n",
       "      <td>0.012138</td>\n",
       "      <td>-0.025278</td>\n",
       "      <td>-0.070320</td>\n",
       "      <td>0.181932</td>\n",
       "      <td>-0.077582</td>\n",
       "      <td>1.690181</td>\n",
       "      <td>-0.777827</td>\n",
       "      <td>-0.858413</td>\n",
       "      <td>-0.212815</td>\n",
       "    </tr>\n",
       "    <tr>\n",
       "      <th>4</th>\n",
       "      <td>-0.563743</td>\n",
       "      <td>-0.657038</td>\n",
       "      <td>-0.852693</td>\n",
       "      <td>0.602702</td>\n",
       "      <td>-0.421075</td>\n",
       "      <td>-1.088284</td>\n",
       "      <td>-0.548710</td>\n",
       "      <td>0.651534</td>\n",
       "      <td>0.0</td>\n",
       "      <td>0.208719</td>\n",
       "      <td>-0.036645</td>\n",
       "      <td>-0.015685</td>\n",
       "      <td>1.930758</td>\n",
       "      <td>-0.694837</td>\n",
       "      <td>-0.473710</td>\n",
       "      <td>-0.314012</td>\n",
       "      <td>-0.339873</td>\n",
       "      <td>-0.103291</td>\n",
       "      <td>-0.865001</td>\n",
       "      <td>-1.028466</td>\n",
       "      <td>-0.460271</td>\n",
       "      <td>-0.096581</td>\n",
       "      <td>-0.079717</td>\n",
       "      <td>0.012138</td>\n",
       "      <td>-0.025278</td>\n",
       "      <td>-0.070320</td>\n",
       "      <td>0.297161</td>\n",
       "      <td>-0.611325</td>\n",
       "      <td>0.261477</td>\n",
       "      <td>-0.476786</td>\n",
       "      <td>-0.640086</td>\n",
       "      <td>-0.548710</td>\n",
       "    </tr>\n",
       "  </tbody>\n",
       "</table>\n",
       "</div>"
      ],
      "text/plain": [
       "   loan_amnt      term  int_rate     grade  emp_length  home_ownership  \\\n",
       "0   2.400992  1.521983  2.339654 -2.456020    1.123245        0.471572   \n",
       "1   0.503562 -0.657038 -0.738189  0.602702    1.123245       -1.088284   \n",
       "2  -0.966947 -0.657038  0.404552 -0.161979    1.123245        2.031429   \n",
       "3  -0.800922 -0.657038 -1.425208  1.367382   -0.935849        2.031429   \n",
       "4  -0.563743 -0.657038 -0.852693  0.602702   -0.421075       -1.088284   \n",
       "\n",
       "   annual_inc  verification_status  pymnt_plan   purpose  addr_state  \\\n",
       "0    0.836856             0.651534         0.0 -0.498236   -0.036645   \n",
       "1    0.053102            -1.534839         0.0 -0.498236   -1.369800   \n",
       "2    0.067097             0.651534         0.0  0.208719   -0.703223   \n",
       "3   -0.212815             0.651534         0.0  0.562197   -1.369800   \n",
       "4   -0.548710             0.651534         0.0  0.208719   -0.036645   \n",
       "\n",
       "        dti  delinq_2yrs  inq_last_6mths  open_acc   pub_rec  revol_bal  \\\n",
       "0  1.092580    -0.360911        1.322423  7.144052 -0.314012   0.651221   \n",
       "1  1.350092    -0.360911        1.322423  2.002063 -0.314012   0.145303   \n",
       "2 -0.595689     1.930758       -0.694837  1.240286 -0.314012  -0.557042   \n",
       "3 -0.522286    -0.360911       -0.694837  2.763839 -0.314012   0.479198   \n",
       "4 -0.015685     1.930758       -0.694837 -0.473710 -0.314012  -0.339873   \n",
       "\n",
       "   revol_util  total_acc  initial_list_status  total_rec_int  \\\n",
       "0    0.129825   4.222159             0.972322       4.186758   \n",
       "1    0.048922   0.830719             0.972322      -0.462838   \n",
       "2   -0.118304   1.424221             0.972322      -0.510916   \n",
       "3   -0.071180   0.661147             0.972322      -0.588186   \n",
       "4   -0.103291  -0.865001            -1.028466      -0.460271   \n",
       "\n",
       "   total_rec_late_fee  collection_recovery_fee  collections_12_mths_ex_med  \\\n",
       "0           -0.096581                -0.079717                    0.012138   \n",
       "1            7.309022                -0.079717                    0.012138   \n",
       "2           -0.096581                -0.079717                    0.012138   \n",
       "3           -0.096581                -0.079717                    0.012138   \n",
       "4           -0.096581                -0.079717                    0.012138   \n",
       "\n",
       "   application_type  acc_now_delinq  tot_coll_amt  tot_cur_bal  \\\n",
       "0         -0.025278       -0.070320      0.181932     1.390015   \n",
       "1         -0.025278       -0.070320      0.181932    -0.120756   \n",
       "2         -0.025278       11.703155      0.181932    -0.650699   \n",
       "3         -0.025278       -0.070320      0.181932    -0.077582   \n",
       "4         -0.025278       -0.070320      0.297161    -0.611325   \n",
       "\n",
       "   total_rev_hi_lim  Monthly_supposed_payment  Total_refund  Monthly_income  \n",
       "0          0.314391                  2.295524      3.346880        0.836856  \n",
       "1          0.129189                  0.725300      0.231720        0.053102  \n",
       "2         -0.238276                 -0.852792     -0.912781        0.067097  \n",
       "3          1.690181                 -0.777827     -0.858413       -0.212815  \n",
       "4          0.261477                 -0.476786     -0.640086       -0.548710  "
      ]
     },
     "execution_count": 37,
     "metadata": {},
     "output_type": "execute_result"
    }
   ],
   "source": [
    "# Use 3 features\n",
    "from sklearn.preprocessing import StandardScaler, MinMaxScaler, MaxAbsScaler, QuantileTransformer\n",
    "from sklearn.feature_selection import SelectKBest, f_classif\n",
    "df = SelectKBest(f_classif, k=3)\n",
    "df1 = StandardScaler()\n",
    "data_scale = df1.fit_transform(dataset_1) \n",
    "data = pd.DataFrame(data_scale, columns=columns)\n",
    "data.head()"
   ]
  },
  {
   "cell_type": "markdown",
   "id": "1b14d4b7",
   "metadata": {},
   "source": [
    "### Spliting the test and trian data"
   ]
  },
  {
   "cell_type": "code",
   "execution_count": 38,
   "id": "0719a5d3",
   "metadata": {},
   "outputs": [],
   "source": [
    "from sklearn.model_selection import train_test_split\n",
    "X_train,X_test,y_train,y_test = train_test_split(data,y, test_size=0.2, random_state=0)"
   ]
  },
  {
   "cell_type": "code",
   "execution_count": 39,
   "id": "5b1f9ae2",
   "metadata": {},
   "outputs": [
    {
     "data": {
      "text/plain": [
       "(21296, 32)"
      ]
     },
     "execution_count": 39,
     "metadata": {},
     "output_type": "execute_result"
    }
   ],
   "source": [
    "X_train.shape"
   ]
  },
  {
   "cell_type": "code",
   "execution_count": 40,
   "id": "7cef136f",
   "metadata": {},
   "outputs": [
    {
     "data": {
      "text/plain": [
       "(5325, 32)"
      ]
     },
     "execution_count": 40,
     "metadata": {},
     "output_type": "execute_result"
    }
   ],
   "source": [
    "X_test.shape"
   ]
  },
  {
   "cell_type": "code",
   "execution_count": 41,
   "id": "dcdd0f3e",
   "metadata": {},
   "outputs": [
    {
     "data": {
      "text/plain": [
       "(21296,)"
      ]
     },
     "execution_count": 41,
     "metadata": {},
     "output_type": "execute_result"
    }
   ],
   "source": [
    "y_train.shape"
   ]
  },
  {
   "cell_type": "code",
   "execution_count": 42,
   "id": "13708613",
   "metadata": {},
   "outputs": [
    {
     "data": {
      "text/plain": [
       "(5325,)"
      ]
     },
     "execution_count": 42,
     "metadata": {},
     "output_type": "execute_result"
    }
   ],
   "source": [
    "y_test.shape"
   ]
  },
  {
   "cell_type": "markdown",
   "id": "7a909c3c",
   "metadata": {},
   "source": [
    "# Training the Data - Model"
   ]
  },
  {
   "cell_type": "code",
   "execution_count": 43,
   "id": "23c35374",
   "metadata": {},
   "outputs": [],
   "source": [
    "from sklearn.linear_model import LogisticRegression\n",
    "classifier = LogisticRegression(max_iter=1000)\n",
    "classifier = classifier.fit(X_train, y_train)"
   ]
  },
  {
   "cell_type": "code",
   "execution_count": 44,
   "id": "452d463d",
   "metadata": {},
   "outputs": [],
   "source": [
    "y_pred = classifier.predict(X_test)"
   ]
  },
  {
   "cell_type": "code",
   "execution_count": 45,
   "id": "734816aa",
   "metadata": {},
   "outputs": [
    {
     "data": {
      "text/plain": [
       "array([0.86036537, 0.06035422, 0.40631351, ..., 0.14483532, 0.0817448 ,\n",
       "       0.13380291])"
      ]
     },
     "execution_count": 45,
     "metadata": {},
     "output_type": "execute_result"
    }
   ],
   "source": [
    "y_pred_prob = classifier.predict_proba(X_test)[:,1]\n",
    "y_pred_prob"
   ]
  },
  {
   "cell_type": "code",
   "execution_count": 46,
   "id": "f18d55ad",
   "metadata": {},
   "outputs": [
    {
     "data": {
      "text/plain": [
       "0.816150234741784"
      ]
     },
     "execution_count": 46,
     "metadata": {},
     "output_type": "execute_result"
    }
   ],
   "source": [
    "from sklearn import metrics\n",
    "accuracy = metrics.accuracy_score(y_test, y_pred)\n",
    "accuracy"
   ]
  },
  {
   "cell_type": "code",
   "execution_count": 47,
   "id": "72467126",
   "metadata": {},
   "outputs": [
    {
     "data": {
      "text/plain": [
       "array([[-1.33395737e+00, -3.57166474e-01,  1.98969397e+00,\n",
       "         1.87072332e+00,  2.51891730e-02, -2.21248092e-03,\n",
       "        -3.66724504e-02, -7.04218718e-02,  0.00000000e+00,\n",
       "        -2.68556952e-02,  2.65591603e-02, -2.46517565e-01,\n",
       "        -1.22272425e-01,  5.98420067e-02, -2.31785133e-01,\n",
       "        -1.25841207e-01, -1.65401777e-01,  2.88494675e-03,\n",
       "         3.08429082e-01,  3.11224015e-01, -1.52405124e-01,\n",
       "        -9.49873061e-02, -9.38822197e+00,  8.31634425e-03,\n",
       "        -1.69151640e-01, -3.34879693e-02, -9.96428742e-01,\n",
       "         1.69012846e-01,  1.31806444e-01,  4.27144407e-01,\n",
       "         9.75399920e-01, -3.66724504e-02]])"
      ]
     },
     "execution_count": 47,
     "metadata": {},
     "output_type": "execute_result"
    }
   ],
   "source": [
    "classifier.coef_"
   ]
  },
  {
   "cell_type": "code",
   "execution_count": 48,
   "id": "96922fcc",
   "metadata": {},
   "outputs": [],
   "source": [
    "### Manipulating the parameters - second model"
   ]
  },
  {
   "cell_type": "code",
   "execution_count": 49,
   "id": "7ddfae4e",
   "metadata": {},
   "outputs": [],
   "source": [
    "model = LogisticRegression(max_iter=1000)\n",
    "solvers = ['newton-cg', 'lbfgs', 'liblinear']\n",
    "penalty = ['l2']\n",
    "c_values = [100, 10, 1.0, 0.1, 0.01]\n",
    "# define grid search\n",
    "grid = dict(solver=solvers,penalty=penalty,C=c_values)\n",
    "cv = RepeatedStratifiedKFold(n_splits=10, n_repeats=3, random_state=1)\n",
    "grid_search = GridSearchCV(estimator=model, param_grid=grid, n_jobs=-1, cv=cv, scoring='accuracy',error_score=0)\n",
    "grid_result = grid_search.fit(X_train, y_train)\n"
   ]
  },
  {
   "cell_type": "code",
   "execution_count": 50,
   "id": "ee2a99db",
   "metadata": {},
   "outputs": [],
   "source": [
    "y_pred_1 = grid_result.predict(X_test)"
   ]
  },
  {
   "cell_type": "code",
   "execution_count": 51,
   "id": "d24c4d41",
   "metadata": {},
   "outputs": [
    {
     "data": {
      "text/plain": [
       "0.8204694835680751"
      ]
     },
     "execution_count": 51,
     "metadata": {},
     "output_type": "execute_result"
    }
   ],
   "source": [
    "accuracy_2 = metrics.accuracy_score(y_test, y_pred_1)\n",
    "accuracy_2"
   ]
  },
  {
   "cell_type": "code",
   "execution_count": 52,
   "id": "e3459e95",
   "metadata": {},
   "outputs": [
    {
     "data": {
      "text/plain": [
       "array([[-1.33395737e+00, -3.57166474e-01,  1.98969397e+00,\n",
       "         1.87072332e+00,  2.51891730e-02, -2.21248092e-03,\n",
       "        -3.66724504e-02, -7.04218718e-02,  0.00000000e+00,\n",
       "        -2.68556952e-02,  2.65591603e-02, -2.46517565e-01,\n",
       "        -1.22272425e-01,  5.98420067e-02, -2.31785133e-01,\n",
       "        -1.25841207e-01, -1.65401777e-01,  2.88494675e-03,\n",
       "         3.08429082e-01,  3.11224015e-01, -1.52405124e-01,\n",
       "        -9.49873061e-02, -9.38822197e+00,  8.31634425e-03,\n",
       "        -1.69151640e-01, -3.34879693e-02, -9.96428742e-01,\n",
       "         1.69012846e-01,  1.31806444e-01,  4.27144407e-01,\n",
       "         9.75399920e-01, -3.66724504e-02]])"
      ]
     },
     "execution_count": 52,
     "metadata": {},
     "output_type": "execute_result"
    }
   ],
   "source": [
    "classifier.coef_"
   ]
  },
  {
   "cell_type": "code",
   "execution_count": 53,
   "id": "07500475",
   "metadata": {},
   "outputs": [
    {
     "data": {
      "text/plain": [
       "array([[3924,  138],\n",
       "       [ 818,  445]], dtype=int64)"
      ]
     },
     "execution_count": 53,
     "metadata": {},
     "output_type": "execute_result"
    }
   ],
   "source": [
    "metrics.confusion_matrix(y_test, y_pred_1)"
   ]
  },
  {
   "cell_type": "markdown",
   "id": "edf78e2a",
   "metadata": {},
   "source": [
    "### XGBOOST MODEL"
   ]
  },
  {
   "cell_type": "code",
   "execution_count": 54,
   "id": "2d482359",
   "metadata": {},
   "outputs": [
    {
     "name": "stdout",
     "output_type": "stream",
     "text": [
      "4.775206199999985\n"
     ]
    }
   ],
   "source": [
    "# xgboost for regression\n",
    "start = timeit.default_timer()\n",
    "from xgboost import XGBClassifier\n",
    "model_xgb = XGBClassifier(objective='binary:logistic', use_label_encoder=False, eval_metric='mlogloss')\n",
    "model_xgb.fit(X_train, y_train)\n",
    "y_pred_xgb = model_xgb.predict(X_test)\n",
    "y_pred_prob = model_xgb.predict_proba(X_test.values)[:,1]\n",
    "stop = timeit.default_timer()\n",
    "print(stop - start)"
   ]
  },
  {
   "cell_type": "code",
   "execution_count": 55,
   "id": "02c78ff4",
   "metadata": {},
   "outputs": [
    {
     "data": {
      "text/html": [
       "<div>\n",
       "<style scoped>\n",
       "    .dataframe tbody tr th:only-of-type {\n",
       "        vertical-align: middle;\n",
       "    }\n",
       "\n",
       "    .dataframe tbody tr th {\n",
       "        vertical-align: top;\n",
       "    }\n",
       "\n",
       "    .dataframe thead th {\n",
       "        text-align: right;\n",
       "    }\n",
       "</style>\n",
       "<table border=\"1\" class=\"dataframe\">\n",
       "  <thead>\n",
       "    <tr style=\"text-align: right;\">\n",
       "      <th></th>\n",
       "      <th>0</th>\n",
       "      <th>1</th>\n",
       "    </tr>\n",
       "  </thead>\n",
       "  <tbody>\n",
       "    <tr>\n",
       "      <th>0</th>\n",
       "      <td>0.019233</td>\n",
       "      <td>0.980767</td>\n",
       "    </tr>\n",
       "    <tr>\n",
       "      <th>1</th>\n",
       "      <td>0.991328</td>\n",
       "      <td>0.008672</td>\n",
       "    </tr>\n",
       "    <tr>\n",
       "      <th>2</th>\n",
       "      <td>0.327750</td>\n",
       "      <td>0.672250</td>\n",
       "    </tr>\n",
       "    <tr>\n",
       "      <th>3</th>\n",
       "      <td>0.899577</td>\n",
       "      <td>0.100423</td>\n",
       "    </tr>\n",
       "    <tr>\n",
       "      <th>4</th>\n",
       "      <td>0.805365</td>\n",
       "      <td>0.194635</td>\n",
       "    </tr>\n",
       "  </tbody>\n",
       "</table>\n",
       "</div>"
      ],
      "text/plain": [
       "          0         1\n",
       "0  0.019233  0.980767\n",
       "1  0.991328  0.008672\n",
       "2  0.327750  0.672250\n",
       "3  0.899577  0.100423\n",
       "4  0.805365  0.194635"
      ]
     },
     "execution_count": 55,
     "metadata": {},
     "output_type": "execute_result"
    }
   ],
   "source": [
    "y_pred_prob = model_xgb.predict_proba(X_test.values)#[:,1]\n",
    "pd.DataFrame(y_pred_prob).head()"
   ]
  },
  {
   "cell_type": "code",
   "execution_count": 62,
   "id": "9bbbf241",
   "metadata": {},
   "outputs": [],
   "source": [
    "y_download = model_xgb.predict_proba(X_test.values)[:,1]\n",
    "pd.DataFrame(y_download).to_csv('datasets/y_pred_prob.csv')"
   ]
  },
  {
   "cell_type": "code",
   "execution_count": 56,
   "id": "35f130d5",
   "metadata": {},
   "outputs": [
    {
     "name": "stdout",
     "output_type": "stream",
     "text": [
      "0.8413145539906103\n"
     ]
    },
    {
     "data": {
      "text/plain": [
       "'0.84'"
      ]
     },
     "execution_count": 56,
     "metadata": {},
     "output_type": "execute_result"
    }
   ],
   "source": [
    "accuracy_xgb = metrics.accuracy_score(y_test, y_pred_xgb)\n",
    "print(accuracy_xgb)\n",
    "'{:.2f}'.format(accuracy_xgb)"
   ]
  },
  {
   "cell_type": "markdown",
   "id": "4127e9e5",
   "metadata": {},
   "source": [
    "# Save Our Model\n",
    "* Serialization\n",
    "* Pickle\n",
    "* Joblib\n",
    "* numpy/json/ray"
   ]
  },
  {
   "cell_type": "code",
   "execution_count": 57,
   "id": "0f1fccef",
   "metadata": {},
   "outputs": [],
   "source": [
    "# Using Joblib\n",
    "import joblib\n",
    "\n",
    "model_file = open(\"models/classifier_model.pkl\",\"wb\")\n",
    "joblib.dump(classifier,model_file)\n",
    "model_file.close()\n",
    "\n",
    "model_file = open(\"models/classifier_model_2.pkl\",\"wb\")\n",
    "joblib.dump(grid_result,model_file)\n",
    "model_file.close()"
   ]
  },
  {
   "cell_type": "markdown",
   "id": "efd4c5cf",
   "metadata": {},
   "source": [
    "Prediction = pd.DataFrame({\n",
    "    'member_id' : member_id,\n",
    "    'loan_status' : stack_result_prob\n",
    "})\n",
    "Prediction = Prediction[['member_id','loan_status']]"
   ]
  },
  {
   "cell_type": "markdown",
   "id": "f7c7dc2e",
   "metadata": {},
   "source": [
    "Prediction.to_csv('datasets/Prdeiction.csv', index = False)"
   ]
  },
  {
   "cell_type": "markdown",
   "id": "fb9d270a",
   "metadata": {},
   "source": [
    "# Creating the summary table"
   ]
  },
  {
   "cell_type": "code",
   "execution_count": 58,
   "id": "cb4f2a99",
   "metadata": {},
   "outputs": [],
   "source": [
    "feature_name = ['loan_amnt', 'term', 'int_rate', 'grade', 'emp_length',\n",
    "       'home_ownership', 'annual_inc', 'verification_status', 'pymnt_plan',\n",
    "       'purpose', 'addr_state', 'dti', 'delinq_2yrs', 'inq_last_6mths',\n",
    "       'open_acc', 'pub_rec', 'revol_bal', 'revol_util', 'total_acc',\n",
    "       'initial_list_status', 'total_rec_int', 'total_rec_late_fee',\n",
    "       'recoveries', 'collection_recovery_fee', 'collections_12_mths_ex_med',\n",
    "       'application_type', 'acc_now_delinq', 'tot_coll_amt', 'tot_cur_bal',\n",
    "       'total_rev_hi_lim', 'Monthly_supposed_payment', 'Total_refund',\n",
    "       'Monthly_income']"
   ]
  },
  {
   "cell_type": "code",
   "execution_count": 59,
   "id": "5486111e",
   "metadata": {},
   "outputs": [
    {
     "ename": "ValueError",
     "evalue": "Length of values (32) does not match length of index (33)",
     "output_type": "error",
     "traceback": [
      "\u001b[1;31m---------------------------------------------------------------------------\u001b[0m",
      "\u001b[1;31mValueError\u001b[0m                                Traceback (most recent call last)",
      "\u001b[1;32m<ipython-input-59-0388e95a4852>\u001b[0m in \u001b[0;36m<module>\u001b[1;34m\u001b[0m\n\u001b[0;32m      1\u001b[0m \u001b[0msummary_table\u001b[0m \u001b[1;33m=\u001b[0m \u001b[0mpd\u001b[0m\u001b[1;33m.\u001b[0m\u001b[0mDataFrame\u001b[0m\u001b[1;33m(\u001b[0m\u001b[0mcolumns\u001b[0m \u001b[1;33m=\u001b[0m \u001b[1;33m[\u001b[0m\u001b[1;34m'Feature name'\u001b[0m\u001b[1;33m]\u001b[0m\u001b[1;33m,\u001b[0m \u001b[0mdata\u001b[0m \u001b[1;33m=\u001b[0m \u001b[0mfeature_name\u001b[0m\u001b[1;33m)\u001b[0m\u001b[1;33m\u001b[0m\u001b[1;33m\u001b[0m\u001b[0m\n\u001b[1;32m----> 2\u001b[1;33m \u001b[0msummary_table\u001b[0m\u001b[1;33m[\u001b[0m\u001b[1;34m'Coefficients'\u001b[0m\u001b[1;33m]\u001b[0m \u001b[1;33m=\u001b[0m \u001b[0mnp\u001b[0m\u001b[1;33m.\u001b[0m\u001b[0mtranspose\u001b[0m\u001b[1;33m(\u001b[0m\u001b[0mclassifier\u001b[0m\u001b[1;33m.\u001b[0m\u001b[0mcoef_\u001b[0m\u001b[1;33m)\u001b[0m\u001b[1;33m\u001b[0m\u001b[1;33m\u001b[0m\u001b[0m\n\u001b[0m\u001b[0;32m      3\u001b[0m \u001b[0msummary_table\u001b[0m\u001b[1;33m.\u001b[0m\u001b[0mindex\u001b[0m \u001b[1;33m=\u001b[0m \u001b[0msummary_table\u001b[0m\u001b[1;33m.\u001b[0m\u001b[0mindex\u001b[0m \u001b[1;33m+\u001b[0m \u001b[1;36m1\u001b[0m\u001b[1;33m\u001b[0m\u001b[1;33m\u001b[0m\u001b[0m\n\u001b[0;32m      4\u001b[0m \u001b[0msummary_table\u001b[0m\u001b[1;33m.\u001b[0m\u001b[0mloc\u001b[0m\u001b[1;33m[\u001b[0m\u001b[1;36m0\u001b[0m\u001b[1;33m]\u001b[0m \u001b[1;33m=\u001b[0m \u001b[1;33m[\u001b[0m\u001b[1;34m'Intercept'\u001b[0m\u001b[1;33m,\u001b[0m \u001b[0mclassifier\u001b[0m\u001b[1;33m.\u001b[0m\u001b[0mintercept_\u001b[0m\u001b[1;33m[\u001b[0m\u001b[1;36m0\u001b[0m\u001b[1;33m]\u001b[0m\u001b[1;33m]\u001b[0m\u001b[1;33m\u001b[0m\u001b[1;33m\u001b[0m\u001b[0m\n\u001b[0;32m      5\u001b[0m \u001b[0msummary_table\u001b[0m \u001b[1;33m=\u001b[0m \u001b[0msummary_table\u001b[0m\u001b[1;33m.\u001b[0m\u001b[0msort_index\u001b[0m\u001b[1;33m(\u001b[0m\u001b[1;33m)\u001b[0m\u001b[1;33m\u001b[0m\u001b[1;33m\u001b[0m\u001b[0m\n",
      "\u001b[1;32mC:\\ProgramData\\Anaconda3\\lib\\site-packages\\pandas\\core\\frame.py\u001b[0m in \u001b[0;36m__setitem__\u001b[1;34m(self, key, value)\u001b[0m\n\u001b[0;32m   3161\u001b[0m         \u001b[1;32melse\u001b[0m\u001b[1;33m:\u001b[0m\u001b[1;33m\u001b[0m\u001b[1;33m\u001b[0m\u001b[0m\n\u001b[0;32m   3162\u001b[0m             \u001b[1;31m# set column\u001b[0m\u001b[1;33m\u001b[0m\u001b[1;33m\u001b[0m\u001b[1;33m\u001b[0m\u001b[0m\n\u001b[1;32m-> 3163\u001b[1;33m             \u001b[0mself\u001b[0m\u001b[1;33m.\u001b[0m\u001b[0m_set_item\u001b[0m\u001b[1;33m(\u001b[0m\u001b[0mkey\u001b[0m\u001b[1;33m,\u001b[0m \u001b[0mvalue\u001b[0m\u001b[1;33m)\u001b[0m\u001b[1;33m\u001b[0m\u001b[1;33m\u001b[0m\u001b[0m\n\u001b[0m\u001b[0;32m   3164\u001b[0m \u001b[1;33m\u001b[0m\u001b[0m\n\u001b[0;32m   3165\u001b[0m     \u001b[1;32mdef\u001b[0m \u001b[0m_setitem_slice\u001b[0m\u001b[1;33m(\u001b[0m\u001b[0mself\u001b[0m\u001b[1;33m,\u001b[0m \u001b[0mkey\u001b[0m\u001b[1;33m:\u001b[0m \u001b[0mslice\u001b[0m\u001b[1;33m,\u001b[0m \u001b[0mvalue\u001b[0m\u001b[1;33m)\u001b[0m\u001b[1;33m:\u001b[0m\u001b[1;33m\u001b[0m\u001b[1;33m\u001b[0m\u001b[0m\n",
      "\u001b[1;32mC:\\ProgramData\\Anaconda3\\lib\\site-packages\\pandas\\core\\frame.py\u001b[0m in \u001b[0;36m_set_item\u001b[1;34m(self, key, value)\u001b[0m\n\u001b[0;32m   3240\u001b[0m         \"\"\"\n\u001b[0;32m   3241\u001b[0m         \u001b[0mself\u001b[0m\u001b[1;33m.\u001b[0m\u001b[0m_ensure_valid_index\u001b[0m\u001b[1;33m(\u001b[0m\u001b[0mvalue\u001b[0m\u001b[1;33m)\u001b[0m\u001b[1;33m\u001b[0m\u001b[1;33m\u001b[0m\u001b[0m\n\u001b[1;32m-> 3242\u001b[1;33m         \u001b[0mvalue\u001b[0m \u001b[1;33m=\u001b[0m \u001b[0mself\u001b[0m\u001b[1;33m.\u001b[0m\u001b[0m_sanitize_column\u001b[0m\u001b[1;33m(\u001b[0m\u001b[0mkey\u001b[0m\u001b[1;33m,\u001b[0m \u001b[0mvalue\u001b[0m\u001b[1;33m)\u001b[0m\u001b[1;33m\u001b[0m\u001b[1;33m\u001b[0m\u001b[0m\n\u001b[0m\u001b[0;32m   3243\u001b[0m         \u001b[0mNDFrame\u001b[0m\u001b[1;33m.\u001b[0m\u001b[0m_set_item\u001b[0m\u001b[1;33m(\u001b[0m\u001b[0mself\u001b[0m\u001b[1;33m,\u001b[0m \u001b[0mkey\u001b[0m\u001b[1;33m,\u001b[0m \u001b[0mvalue\u001b[0m\u001b[1;33m)\u001b[0m\u001b[1;33m\u001b[0m\u001b[1;33m\u001b[0m\u001b[0m\n\u001b[0;32m   3244\u001b[0m \u001b[1;33m\u001b[0m\u001b[0m\n",
      "\u001b[1;32mC:\\ProgramData\\Anaconda3\\lib\\site-packages\\pandas\\core\\frame.py\u001b[0m in \u001b[0;36m_sanitize_column\u001b[1;34m(self, key, value, broadcast)\u001b[0m\n\u001b[0;32m   3897\u001b[0m \u001b[1;33m\u001b[0m\u001b[0m\n\u001b[0;32m   3898\u001b[0m             \u001b[1;31m# turn me into an ndarray\u001b[0m\u001b[1;33m\u001b[0m\u001b[1;33m\u001b[0m\u001b[1;33m\u001b[0m\u001b[0m\n\u001b[1;32m-> 3899\u001b[1;33m             \u001b[0mvalue\u001b[0m \u001b[1;33m=\u001b[0m \u001b[0msanitize_index\u001b[0m\u001b[1;33m(\u001b[0m\u001b[0mvalue\u001b[0m\u001b[1;33m,\u001b[0m \u001b[0mself\u001b[0m\u001b[1;33m.\u001b[0m\u001b[0mindex\u001b[0m\u001b[1;33m)\u001b[0m\u001b[1;33m\u001b[0m\u001b[1;33m\u001b[0m\u001b[0m\n\u001b[0m\u001b[0;32m   3900\u001b[0m             \u001b[1;32mif\u001b[0m \u001b[1;32mnot\u001b[0m \u001b[0misinstance\u001b[0m\u001b[1;33m(\u001b[0m\u001b[0mvalue\u001b[0m\u001b[1;33m,\u001b[0m \u001b[1;33m(\u001b[0m\u001b[0mnp\u001b[0m\u001b[1;33m.\u001b[0m\u001b[0mndarray\u001b[0m\u001b[1;33m,\u001b[0m \u001b[0mIndex\u001b[0m\u001b[1;33m)\u001b[0m\u001b[1;33m)\u001b[0m\u001b[1;33m:\u001b[0m\u001b[1;33m\u001b[0m\u001b[1;33m\u001b[0m\u001b[0m\n\u001b[0;32m   3901\u001b[0m                 \u001b[1;32mif\u001b[0m \u001b[0misinstance\u001b[0m\u001b[1;33m(\u001b[0m\u001b[0mvalue\u001b[0m\u001b[1;33m,\u001b[0m \u001b[0mlist\u001b[0m\u001b[1;33m)\u001b[0m \u001b[1;32mand\u001b[0m \u001b[0mlen\u001b[0m\u001b[1;33m(\u001b[0m\u001b[0mvalue\u001b[0m\u001b[1;33m)\u001b[0m \u001b[1;33m>\u001b[0m \u001b[1;36m0\u001b[0m\u001b[1;33m:\u001b[0m\u001b[1;33m\u001b[0m\u001b[1;33m\u001b[0m\u001b[0m\n",
      "\u001b[1;32mC:\\ProgramData\\Anaconda3\\lib\\site-packages\\pandas\\core\\internals\\construction.py\u001b[0m in \u001b[0;36msanitize_index\u001b[1;34m(data, index)\u001b[0m\n\u001b[0;32m    749\u001b[0m     \"\"\"\n\u001b[0;32m    750\u001b[0m     \u001b[1;32mif\u001b[0m \u001b[0mlen\u001b[0m\u001b[1;33m(\u001b[0m\u001b[0mdata\u001b[0m\u001b[1;33m)\u001b[0m \u001b[1;33m!=\u001b[0m \u001b[0mlen\u001b[0m\u001b[1;33m(\u001b[0m\u001b[0mindex\u001b[0m\u001b[1;33m)\u001b[0m\u001b[1;33m:\u001b[0m\u001b[1;33m\u001b[0m\u001b[1;33m\u001b[0m\u001b[0m\n\u001b[1;32m--> 751\u001b[1;33m         raise ValueError(\n\u001b[0m\u001b[0;32m    752\u001b[0m             \u001b[1;34m\"Length of values \"\u001b[0m\u001b[1;33m\u001b[0m\u001b[1;33m\u001b[0m\u001b[0m\n\u001b[0;32m    753\u001b[0m             \u001b[1;34mf\"({len(data)}) \"\u001b[0m\u001b[1;33m\u001b[0m\u001b[1;33m\u001b[0m\u001b[0m\n",
      "\u001b[1;31mValueError\u001b[0m: Length of values (32) does not match length of index (33)"
     ]
    }
   ],
   "source": [
    "summary_table = pd.DataFrame(columns = ['Feature name'], data = feature_name)\n",
    "summary_table['Coefficients'] = np.transpose(classifier.coef_)\n",
    "summary_table.index = summary_table.index + 1\n",
    "summary_table.loc[0] = ['Intercept', classifier.intercept_[0]]\n",
    "summary_table = summary_table.sort_index()\n",
    "summary_table"
   ]
  },
  {
   "cell_type": "code",
   "execution_count": null,
   "id": "56a3e860",
   "metadata": {},
   "outputs": [],
   "source": [
    "inputs_train = X_train\n",
    "X_train.head()"
   ]
  },
  {
   "cell_type": "code",
   "execution_count": null,
   "id": "b4923513",
   "metadata": {},
   "outputs": [],
   "source": [
    "inputs_test = X_test\n",
    "X_test.head()"
   ]
  },
  {
   "cell_type": "code",
   "execution_count": null,
   "id": "689768fd",
   "metadata": {},
   "outputs": [],
   "source": [
    "#y_hat_test = classifier.predict(inputs_test)\n",
    "#y_hat_test"
   ]
  },
  {
   "cell_type": "code",
   "execution_count": null,
   "id": "7d62b2f0",
   "metadata": {},
   "outputs": [],
   "source": [
    "y_pred_prob"
   ]
  },
  {
   "cell_type": "code",
   "execution_count": null,
   "id": "7da9386b",
   "metadata": {},
   "outputs": [],
   "source": [
    "y_hat_test_proba = y_pred_prob\n",
    "y_hat_test_proba"
   ]
  },
  {
   "cell_type": "code",
   "execution_count": null,
   "id": "20ee2c01",
   "metadata": {},
   "outputs": [],
   "source": [
    "y_test = pd.DataFrame(y_test)\n",
    "y_test.tail()"
   ]
  },
  {
   "cell_type": "code",
   "execution_count": null,
   "id": "3746860a",
   "metadata": {},
   "outputs": [],
   "source": [
    "loan_data_targets_test = y_test\n",
    "loan_data_targets_test.head()"
   ]
  },
  {
   "cell_type": "code",
   "execution_count": null,
   "id": "cfb36fcc",
   "metadata": {},
   "outputs": [],
   "source": [
    "df_actual_predicted_probs = pd.concat([loan_data_targets_test, pd.DataFrame(y_hat_test_proba)], axis = 1)\n",
    "# Concatenates two dataframes."
   ]
  },
  {
   "cell_type": "code",
   "execution_count": null,
   "id": "bf211ec0",
   "metadata": {},
   "outputs": [],
   "source": [
    "df_actual_predicted_probs.columns = ['loan_data_targets_test', 'y_hat_test_proba']"
   ]
  },
  {
   "cell_type": "code",
   "execution_count": null,
   "id": "b769837e",
   "metadata": {},
   "outputs": [],
   "source": [
    "df_actual_predicted_probs.head()"
   ]
  },
  {
   "cell_type": "markdown",
   "id": "a670cc8a",
   "metadata": {},
   "source": [
    "## Accuracy and Area under the Curve"
   ]
  },
  {
   "cell_type": "code",
   "execution_count": null,
   "id": "81f86393",
   "metadata": {},
   "outputs": [],
   "source": [
    "tr = 0.5\n",
    "# We create a new column with an indicator,\n",
    "# where every observation that has predicted probability greater than the threshold has a value of 1,\n",
    "# and every observation that has predicted probability lower than the threshold has a value of 0.\n",
    "df_actual_predicted_probs['y_hat_test'] = np.where(df_actual_predicted_probs['y_hat_test_proba'] > tr, 1, 0)"
   ]
  },
  {
   "cell_type": "code",
   "execution_count": null,
   "id": "a5345db1",
   "metadata": {},
   "outputs": [],
   "source": [
    "pd.crosstab(df_actual_predicted_probs['loan_data_targets_test'], df_actual_predicted_probs['y_hat_test'], rownames = ['Actual'], colnames = ['Predicted'])\n",
    "# Creates a cross-table where the actual values are displayed by rows and the predicted values by columns.\n",
    "# This table is known as a Confusion Matrix."
   ]
  },
  {
   "cell_type": "code",
   "execution_count": null,
   "id": "1d547564",
   "metadata": {},
   "outputs": [],
   "source": [
    "pd.crosstab(df_actual_predicted_probs['loan_data_targets_test'], df_actual_predicted_probs['y_hat_test'], rownames = ['Actual'], colnames = ['Predicted']) / df_actual_predicted_probs.shape[0]\n",
    "# Here we divide each value of the table by the total number of observations,\n",
    "# thus getting percentages, or, rates."
   ]
  },
  {
   "cell_type": "code",
   "execution_count": null,
   "id": "b5f21881",
   "metadata": {},
   "outputs": [],
   "source": [
    "(pd.crosstab(df_actual_predicted_probs['loan_data_targets_test'], df_actual_predicted_probs['y_hat_test'], rownames = ['Actual'], colnames = ['Predicted']) / df_actual_predicted_probs.shape[0]).iloc[0, 0] + (pd.crosstab(df_actual_predicted_probs['loan_data_targets_test'], df_actual_predicted_probs['y_hat_test'], rownames = ['Actual'], colnames = ['Predicted']) / df_actual_predicted_probs.shape[0]).iloc[1, 1]\n",
    "# Here we calculate Accuracy of the model, which is the sum of the diagonal rates."
   ]
  },
  {
   "cell_type": "code",
   "execution_count": null,
   "id": "48ebfa77",
   "metadata": {},
   "outputs": [],
   "source": [
    "from sklearn.metrics import roc_curve, roc_auc_score"
   ]
  },
  {
   "cell_type": "code",
   "execution_count": null,
   "id": "2608ad35",
   "metadata": {},
   "outputs": [],
   "source": [
    "roc_curve(df_actual_predicted_probs['loan_data_targets_test'], df_actual_predicted_probs['y_hat_test_proba'])\n",
    "# Returns the Receiver Operating Characteristic (ROC) Curve from a set of actual values and their predicted probabilities.\n",
    "# As a result, we get three arrays: the false positive rates, the true positive rates, and the thresholds."
   ]
  },
  {
   "cell_type": "code",
   "execution_count": null,
   "id": "1b726ffb",
   "metadata": {},
   "outputs": [],
   "source": [
    "fpr, tpr, thresholds = roc_curve(df_actual_predicted_probs['loan_data_targets_test'], df_actual_predicted_probs['y_hat_test_proba'])\n",
    "# Here we store each of the three arrays in a separate variable. "
   ]
  },
  {
   "cell_type": "code",
   "execution_count": null,
   "id": "ab618eaf",
   "metadata": {},
   "outputs": [],
   "source": [
    "import matplotlib.pyplot as plt\n",
    "import seaborn as sns\n",
    "sns.set()"
   ]
  },
  {
   "cell_type": "code",
   "execution_count": null,
   "id": "0d7226b0",
   "metadata": {},
   "outputs": [],
   "source": [
    "plt.plot(fpr, tpr)\n",
    "# We plot the false positive rate along the x-axis and the true positive rate along the y-axis,\n",
    "# thus plotting the ROC curve.\n",
    "plt.plot(fpr, fpr, linestyle = '--', color = 'k')\n",
    "# We plot a seconary diagonal line, with dashed line style and black color.\n",
    "plt.xlabel('False positive rate')\n",
    "# We name the x-axis \"False positive rate\".\n",
    "plt.ylabel('True positive rate')\n",
    "# We name the x-axis \"True positive rate\".\n",
    "plt.title('ROC curve')\n",
    "# We name the graph \"ROC curve\"."
   ]
  },
  {
   "cell_type": "markdown",
   "id": "b92c4e47",
   "metadata": {},
   "source": [
    "# Accuracy"
   ]
  },
  {
   "cell_type": "code",
   "execution_count": null,
   "id": "0a654623",
   "metadata": {},
   "outputs": [],
   "source": [
    "AUROC = roc_auc_score(df_actual_predicted_probs['loan_data_targets_test'], df_actual_predicted_probs['y_hat_test_proba'])\n",
    "# Calculates the Area Under the Receiver Operating Characteristic Curve (AUROC)\n",
    "# from a set of actual values and their predicted probabilities.\n",
    "'{:.2f}'.format(AUROC)"
   ]
  },
  {
   "cell_type": "markdown",
   "id": "12594aa1",
   "metadata": {},
   "source": [
    "## Gini and Kolmogorov-Smirnov"
   ]
  },
  {
   "cell_type": "code",
   "execution_count": null,
   "id": "0b3608c9",
   "metadata": {},
   "outputs": [],
   "source": [
    "df_actual_predicted_probs = df_actual_predicted_probs.sort_values('y_hat_test_proba')\n",
    "# Sorts a dataframe by the values of a specific column."
   ]
  },
  {
   "cell_type": "code",
   "execution_count": null,
   "id": "fc4aebfd",
   "metadata": {},
   "outputs": [],
   "source": [
    "df_actual_predicted_probs.head()"
   ]
  },
  {
   "cell_type": "code",
   "execution_count": null,
   "id": "0a03237d",
   "metadata": {},
   "outputs": [],
   "source": [
    "df_actual_predicted_probs.tail()"
   ]
  },
  {
   "cell_type": "code",
   "execution_count": null,
   "id": "f8ee0354",
   "metadata": {},
   "outputs": [],
   "source": [
    "df_actual_predicted_probs = df_actual_predicted_probs.reset_index()\n",
    "# We reset the index of a dataframe and overwrite it."
   ]
  },
  {
   "cell_type": "code",
   "execution_count": null,
   "id": "590c1ba7",
   "metadata": {},
   "outputs": [],
   "source": [
    "df_actual_predicted_probs.head()"
   ]
  },
  {
   "cell_type": "code",
   "execution_count": null,
   "id": "7edd70cb",
   "metadata": {},
   "outputs": [],
   "source": [
    "df_actual_predicted_probs['Cumulative N Population'] = df_actual_predicted_probs.index + 1\n",
    "# We calculate the cumulative number of all observations.\n",
    "# We use the new index for that. Since indexing in ython starts from 0, we add 1 to each index.\n",
    "df_actual_predicted_probs['Cumulative N Good'] = df_actual_predicted_probs['loan_data_targets_test'].cumsum()\n",
    "# We calculate cumulative number of 'good', which is the cumulative sum of the column with actual observations.\n",
    "df_actual_predicted_probs['Cumulative N Bad'] = df_actual_predicted_probs['Cumulative N Population'] - df_actual_predicted_probs['loan_data_targets_test'].cumsum()\n",
    "# We calculate cumulative number of 'bad', which is\n",
    "# the difference between the cumulative number of all observations and cumulative number of 'good' for each row."
   ]
  },
  {
   "cell_type": "code",
   "execution_count": null,
   "id": "af1b7cc9",
   "metadata": {},
   "outputs": [],
   "source": [
    "df_actual_predicted_probs['Cumulative Perc Population'] = df_actual_predicted_probs['Cumulative N Population'] / (df_actual_predicted_probs.shape[0])\n",
    "# We calculate the cumulative percentage of all observations.\n",
    "df_actual_predicted_probs['Cumulative Perc Good'] = df_actual_predicted_probs['Cumulative N Good'] / df_actual_predicted_probs['loan_data_targets_test'].sum()\n",
    "# We calculate cumulative percentage of 'good'.\n",
    "df_actual_predicted_probs['Cumulative Perc Bad'] = df_actual_predicted_probs['Cumulative N Bad'] / (df_actual_predicted_probs.shape[0] - df_actual_predicted_probs['loan_data_targets_test'].sum())\n",
    "# We calculate the cumulative percentage of 'bad'."
   ]
  },
  {
   "cell_type": "code",
   "execution_count": null,
   "id": "d26e4758",
   "metadata": {},
   "outputs": [],
   "source": [
    "df_actual_predicted_probs.head()"
   ]
  },
  {
   "cell_type": "code",
   "execution_count": null,
   "id": "b415ef39",
   "metadata": {},
   "outputs": [],
   "source": [
    "# Plot Gini\n",
    "plt.plot(df_actual_predicted_probs['Cumulative Perc Population'], df_actual_predicted_probs['Cumulative Perc Bad'])\n",
    "# We plot the cumulative percentage of all along the x-axis and the cumulative percentage 'good' along the y-axis,\n",
    "# thus plotting the Gini curve.\n",
    "plt.plot(df_actual_predicted_probs['Cumulative Perc Population'], df_actual_predicted_probs['Cumulative Perc Population'], linestyle = '--', color = 'k')\n",
    "# We plot a seconary diagonal line, with dashed line style and black color.\n",
    "plt.xlabel('Cumulative % Population')\n",
    "# We name the x-axis \"Cumulative % Population\".\n",
    "plt.ylabel('Cumulative % Bad')\n",
    "# We name the y-axis \"Cumulative % Bad\".\n",
    "plt.title('Gini')\n",
    "# We name the graph \"Gini\"."
   ]
  },
  {
   "cell_type": "code",
   "execution_count": null,
   "id": "df6ca778",
   "metadata": {},
   "outputs": [],
   "source": [
    "Gini = AUROC * 2 - 1\n",
    "# Here we calculate Gini from AUROC.\n",
    "Gini"
   ]
  },
  {
   "cell_type": "code",
   "execution_count": null,
   "id": "60c46ed1",
   "metadata": {},
   "outputs": [],
   "source": [
    "# Plot KS\n",
    "plt.plot(df_actual_predicted_probs['y_hat_test_proba'], df_actual_predicted_probs['Cumulative Perc Bad'], color = 'r')\n",
    "# We plot the predicted (estimated) probabilities along the x-axis and the cumulative percentage 'bad' along the y-axis,\n",
    "# colored in red.\n",
    "plt.plot(df_actual_predicted_probs['y_hat_test_proba'], df_actual_predicted_probs['Cumulative Perc Good'], color = 'b')\n",
    "# We plot the predicted (estimated) probabilities along the x-axis and the cumulative percentage 'good' along the y-axis,\n",
    "# colored in red.\n",
    "plt.xlabel('Estimated Probability for being Good')\n",
    "# We name the x-axis \"Estimated Probability for being Good\".\n",
    "plt.ylabel('Cumulative %')\n",
    "# We name the y-axis \"Cumulative %\".\n",
    "plt.title('Kolmogorov-Smirnov')\n",
    "# We name the graph \"Kolmogorov-Smirnov\"."
   ]
  },
  {
   "cell_type": "code",
   "execution_count": null,
   "id": "a0ea03e0",
   "metadata": {},
   "outputs": [],
   "source": [
    "KS = max(df_actual_predicted_probs['Cumulative Perc Bad'] - df_actual_predicted_probs['Cumulative Perc Good'])\n",
    "# We calculate KS from the data. It is the maximum of the difference between the cumulative percentage of 'bad'\n",
    "# and the cumulative percentage of 'good'.\n",
    "KS"
   ]
  },
  {
   "cell_type": "markdown",
   "id": "9461ff4a",
   "metadata": {},
   "source": [
    "# Creating a Scorecard"
   ]
  },
  {
   "cell_type": "code",
   "execution_count": null,
   "id": "63e1f0d7",
   "metadata": {},
   "outputs": [],
   "source": [
    "summary_table"
   ]
  },
  {
   "cell_type": "code",
   "execution_count": null,
   "id": "59700318",
   "metadata": {},
   "outputs": [],
   "source": [
    "min_score = 300\n",
    "max_score = 850"
   ]
  },
  {
   "cell_type": "code",
   "execution_count": null,
   "id": "e1b55626",
   "metadata": {},
   "outputs": [],
   "source": [
    "df_scorecard = summary_table"
   ]
  },
  {
   "cell_type": "code",
   "execution_count": null,
   "id": "af3681e9",
   "metadata": {},
   "outputs": [],
   "source": [
    "df_scorecard.groupby('Feature name')['Coefficients'].min()\n",
    "# Groups the data by the values of the 'feature name' column.\n",
    "# Aggregates the data in the 'Coefficients' column, calculating their minimum."
   ]
  },
  {
   "cell_type": "code",
   "execution_count": null,
   "id": "44d06da9",
   "metadata": {},
   "outputs": [],
   "source": [
    "min_sum_coef_1 = df_scorecard['Coefficients'].min()\n",
    "# Up to the 'min()' method everything is the same as in te line above.\n",
    "# Then, we aggregate further and sum all the minimum values.\n",
    "min_sum_coef = -1.5386183729406917"
   ]
  },
  {
   "cell_type": "code",
   "execution_count": null,
   "id": "079a8aa0",
   "metadata": {},
   "outputs": [],
   "source": [
    "max_sum_coef_1 = df_scorecard['Coefficients'].max()\n",
    "# Up to the 'min()' method everything is the same as in te line above.\n",
    "# Then, we aggregate further and sum all the minimum values.\n",
    "max_sum_coef = 5.590270189646491"
   ]
  },
  {
   "cell_type": "code",
   "execution_count": null,
   "id": "77be36a6",
   "metadata": {},
   "outputs": [],
   "source": [
    "df_scorecard['Score - Calculation'] = df_scorecard['Coefficients'] * (max_score - min_score) / (max_sum_coef - min_sum_coef)\n",
    "# We multiply the value of the 'Coefficients' column by the ration of the differences between\n",
    "# maximum score and minimum score and maximum sum of coefficients and minimum sum of cefficients.\n",
    "df_scorecard"
   ]
  },
  {
   "cell_type": "code",
   "execution_count": null,
   "id": "3b406503",
   "metadata": {},
   "outputs": [],
   "source": [
    "df_scorecard['Score - Calculation'][0] = ((df_scorecard['Coefficients'][0] - min_sum_coef) / (max_sum_coef - min_sum_coef)) * (max_score - min_score) + min_score\n",
    "# We divide the difference of the value of the 'Coefficients' column and the minimum sum of coefficients by\n",
    "# the difference of the maximum sum of coefficients and the minimum sum of coefficients.\n",
    "# Then, we multiply that by the difference between the maximum score and the minimum score.\n",
    "# Then, we add minimum score. \n",
    "df_scorecard"
   ]
  },
  {
   "cell_type": "code",
   "execution_count": null,
   "id": "d9968931",
   "metadata": {},
   "outputs": [],
   "source": [
    "df_scorecard['Score - Preliminary'] = df_scorecard['Score - Calculation'].round()\n",
    "# We round the values of the 'Score - Calculation' column.\n",
    "df_scorecard"
   ]
  },
  {
   "cell_type": "code",
   "execution_count": null,
   "id": "40600363",
   "metadata": {},
   "outputs": [],
   "source": [
    "df_scorecard['Score - Preliminary'] = abs(df_scorecard['Score - Preliminary'])\n",
    "df_scorecard"
   ]
  },
  {
   "cell_type": "code",
   "execution_count": null,
   "id": "880dbdc1",
   "metadata": {},
   "outputs": [],
   "source": []
  },
  {
   "cell_type": "code",
   "execution_count": null,
   "id": "51e8bdd1",
   "metadata": {},
   "outputs": [],
   "source": [
    "X_test_intercept = X_test.insert(0, 'Intercept', 1)\n",
    "# We insert a column in the dataframe, with an index of 0, that is, in the beginning of the dataframe.\n",
    "# The name of that column is 'Intercept', and its values are 1s.\n",
    "X_test.head()"
   ]
  },
  {
   "cell_type": "code",
   "execution_count": null,
   "id": "4103f6e0",
   "metadata": {},
   "outputs": [],
   "source": [
    "X_test_intercept.shape"
   ]
  },
  {
   "cell_type": "code",
   "execution_count": null,
   "id": "958dbc64",
   "metadata": {},
   "outputs": [],
   "source": [
    "X_test.shape"
   ]
  },
  {
   "cell_type": "code",
   "execution_count": null,
   "id": "66cc1de8",
   "metadata": {},
   "outputs": [],
   "source": [
    "scorecard_scores = df_scorecard['Score - Final']"
   ]
  },
  {
   "cell_type": "code",
   "execution_count": null,
   "id": "60bebe72",
   "metadata": {},
   "outputs": [],
   "source": [
    "scorecard_scores.shape"
   ]
  },
  {
   "cell_type": "code",
   "execution_count": null,
   "id": "ac6cb476",
   "metadata": {},
   "outputs": [],
   "source": [
    "scorecard_scores = scorecard_scores.values.reshape(34, 1)\n",
    "scorecard_scores.shape"
   ]
  },
  {
   "cell_type": "code",
   "execution_count": null,
   "id": "71f5fdc4",
   "metadata": {},
   "outputs": [],
   "source": [
    "y_scores = X_test_intercept.dot(scorecard_scores)\n",
    "# Here we multiply the values of each row of the dataframe by the values of each column of the variable,\n",
    "# which is an argument of the 'dot' method, and sum them. It's essentially the sum of the products.\n",
    "y_scores.head()"
   ]
  },
  {
   "cell_type": "markdown",
   "id": "789ebade",
   "metadata": {},
   "source": [
    "### From Credit Score to PD"
   ]
  },
  {
   "cell_type": "code",
   "execution_count": null,
   "id": "c8c9af0f",
   "metadata": {},
   "outputs": [],
   "source": [
    "sum_coef_from_score = ((y_scores - min_score) / (max_score - min_score))\n",
    "# We divide the difference between the scores and the minimum score by\n",
    "# the difference between the maximum score and the minimum score.\n",
    "# Then, we multiply that by the difference between the maximum sum of coefficients and the minimum sum of coefficients.\n",
    "# Then, we add the minimum sum of coefficients.\n",
    "sum_coef_from_score"
   ]
  },
  {
   "cell_type": "code",
   "execution_count": null,
   "id": "a1c84fda",
   "metadata": {},
   "outputs": [],
   "source": [
    "y_hat_proba_from_score = np.exp(sum_coef_from_score) / (np.exp(sum_coef_from_score) + 1)\n",
    "# Here we divide an exponent raised to sum of coefficients from score by\n",
    "# an exponent raised to sum of coefficients from score plus one.\n",
    "y_hat_proba_from_score.head()"
   ]
  },
  {
   "cell_type": "code",
   "execution_count": null,
   "id": "69269214",
   "metadata": {},
   "outputs": [],
   "source": [
    "y_hat_test_proba[0: 5]"
   ]
  },
  {
   "cell_type": "code",
   "execution_count": null,
   "id": "b463eecb",
   "metadata": {},
   "outputs": [],
   "source": []
  },
  {
   "cell_type": "code",
   "execution_count": null,
   "id": "1465128d",
   "metadata": {},
   "outputs": [],
   "source": []
  },
  {
   "cell_type": "code",
   "execution_count": null,
   "id": "59877529",
   "metadata": {},
   "outputs": [],
   "source": []
  },
  {
   "cell_type": "code",
   "execution_count": null,
   "id": "4c043dc3",
   "metadata": {},
   "outputs": [],
   "source": []
  },
  {
   "cell_type": "code",
   "execution_count": null,
   "id": "d37919be",
   "metadata": {},
   "outputs": [],
   "source": []
  },
  {
   "cell_type": "code",
   "execution_count": null,
   "id": "ad699550",
   "metadata": {},
   "outputs": [],
   "source": []
  },
  {
   "cell_type": "code",
   "execution_count": null,
   "id": "74c42b7a",
   "metadata": {},
   "outputs": [],
   "source": []
  },
  {
   "cell_type": "code",
   "execution_count": null,
   "id": "ca5026e3",
   "metadata": {},
   "outputs": [],
   "source": []
  },
  {
   "cell_type": "code",
   "execution_count": null,
   "id": "f4e69f4d",
   "metadata": {},
   "outputs": [],
   "source": []
  }
 ],
 "metadata": {
  "kernelspec": {
   "display_name": "Python 3",
   "language": "python",
   "name": "python3"
  },
  "language_info": {
   "codemirror_mode": {
    "name": "ipython",
    "version": 3
   },
   "file_extension": ".py",
   "mimetype": "text/x-python",
   "name": "python",
   "nbconvert_exporter": "python",
   "pygments_lexer": "ipython3",
   "version": "3.8.8"
  }
 },
 "nbformat": 4,
 "nbformat_minor": 5
}
